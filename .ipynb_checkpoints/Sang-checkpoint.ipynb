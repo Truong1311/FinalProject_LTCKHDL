{
 "cells": [
  {
   "cell_type": "markdown",
   "id": "1f8345c5",
   "metadata": {},
   "source": [
    "# Import library"
   ]
  },
  {
   "cell_type": "code",
   "execution_count": 27,
   "id": "3bd897f4",
   "metadata": {},
   "outputs": [
    {
     "name": "stdout",
     "output_type": "stream",
     "text": [
      "Reset css and font defaults in:\r\n",
      "/home/sam/.jupyter/custom &\r\n",
      "/home/sam/.local/share/jupyter/nbextensions\r\n"
     ]
    }
   ],
   "source": [
    "# NGUYỄN HOÀNG Sang\n",
    "import pandas as pd\n",
    "import numpy as np\n",
    "import matplotlib.pyplot as plt\n",
    "from statistics import mode \n",
    "pd.set_option('Display.max_columns',None)\n",
    "!jt -r"
   ]
  },
  {
   "cell_type": "markdown",
   "id": "a7f5d5dc",
   "metadata": {},
   "source": [
    "## Verify coding environment"
   ]
  },
  {
   "cell_type": "code",
   "execution_count": 2,
   "id": "0f44d908",
   "metadata": {},
   "outputs": [
    {
     "name": "stdout",
     "output_type": "stream",
     "text": [
      "/home/sam/anaconda3/bin/python\r\n"
     ]
    }
   ],
   "source": [
    "!which python"
   ]
  },
  {
   "cell_type": "markdown",
   "id": "10ceb8eb",
   "metadata": {},
   "source": [
    "# Data Preprocessing and Cleaning"
   ]
  },
  {
   "cell_type": "markdown",
   "id": "50e39d03",
   "metadata": {},
   "source": [
    "## Import data"
   ]
  },
  {
   "cell_type": "code",
   "execution_count": 3,
   "id": "1742f241",
   "metadata": {},
   "outputs": [
    {
     "data": {
      "text/html": [
       "<div>\n",
       "<style scoped>\n",
       "    .dataframe tbody tr th:only-of-type {\n",
       "        vertical-align: middle;\n",
       "    }\n",
       "\n",
       "    .dataframe tbody tr th {\n",
       "        vertical-align: top;\n",
       "    }\n",
       "\n",
       "    .dataframe thead th {\n",
       "        text-align: right;\n",
       "    }\n",
       "</style>\n",
       "<table border=\"1\" class=\"dataframe\">\n",
       "  <thead>\n",
       "    <tr style=\"text-align: right;\">\n",
       "      <th></th>\n",
       "      <th>X</th>\n",
       "      <th>Y</th>\n",
       "      <th>OBJECTID</th>\n",
       "      <th>BLOCK_X</th>\n",
       "      <th>BLOCK_Y</th>\n",
       "      <th>DCS_LAST_MOD_DTM</th>\n",
       "      <th>SEXOFFENDERCODE</th>\n",
       "      <th>ADDDATE</th>\n",
       "      <th>LASTNAME</th>\n",
       "      <th>FIRSTNAME</th>\n",
       "      <th>ALIASES</th>\n",
       "      <th>MAXCLASSIFICATION</th>\n",
       "      <th>BIRTHDATE</th>\n",
       "      <th>HEIGHTNUM</th>\n",
       "      <th>WEIGHTNUM</th>\n",
       "      <th>EYECOLOR</th>\n",
       "      <th>HAIRCOLOR</th>\n",
       "      <th>MARKINGS</th>\n",
       "      <th>REGISTRATIONDATE</th>\n",
       "      <th>TYPE</th>\n",
       "      <th>DISTRICT</th>\n",
       "      <th>PSA</th>\n",
       "      <th>BLOCKNAME</th>\n",
       "      <th>QUADRANT</th>\n",
       "      <th>ZIP</th>\n",
       "    </tr>\n",
       "  </thead>\n",
       "  <tbody>\n",
       "    <tr>\n",
       "      <th>0</th>\n",
       "      <td>-76.973974</td>\n",
       "      <td>38.863542</td>\n",
       "      <td>4236689</td>\n",
       "      <td>402259</td>\n",
       "      <td>132858</td>\n",
       "      <td>2021/01/14 06:15:24+00</td>\n",
       "      <td>002-910</td>\n",
       "      <td>2016/08/02 09:34:44+00</td>\n",
       "      <td>SANDERS</td>\n",
       "      <td>ANTHONY</td>\n",
       "      <td>DERRICK  JUICE / X  JUICE / ANTHONY  SANDERS /...</td>\n",
       "      <td>A</td>\n",
       "      <td>1969/06/19 00:00:00+00</td>\n",
       "      <td>66</td>\n",
       "      <td>138</td>\n",
       "      <td>BROWN</td>\n",
       "      <td>BLACK</td>\n",
       "      <td>TATTOO-LEFT WRIST: CHINESE SYMBOL; RIGHT WRIST...</td>\n",
       "      <td>2016/08/29 00:00:00+00</td>\n",
       "      <td>HOME</td>\n",
       "      <td>6.0</td>\n",
       "      <td>607.0</td>\n",
       "      <td>2300 - 2399 BLOCK OF GOOD HOPE ROAD SE</td>\n",
       "      <td>SE</td>\n",
       "      <td>20020</td>\n",
       "    </tr>\n",
       "    <tr>\n",
       "      <th>1</th>\n",
       "      <td>-76.972648</td>\n",
       "      <td>38.857499</td>\n",
       "      <td>4236690</td>\n",
       "      <td>402374</td>\n",
       "      <td>132187</td>\n",
       "      <td>2021/01/14 06:15:24+00</td>\n",
       "      <td>002-913</td>\n",
       "      <td>2016/08/04 14:42:53+00</td>\n",
       "      <td>GAYLES</td>\n",
       "      <td>JERMAINE</td>\n",
       "      <td>ROBERT  GAYLES / JERMAINE  IRVIN / JERMAINE  I...</td>\n",
       "      <td>B</td>\n",
       "      <td>1986/06/25 00:00:00+00</td>\n",
       "      <td>73</td>\n",
       "      <td>200</td>\n",
       "      <td>BROWN</td>\n",
       "      <td>BLACK</td>\n",
       "      <td>NaN</td>\n",
       "      <td>2018/02/22 00:00:00+00</td>\n",
       "      <td>HOME</td>\n",
       "      <td>7.0</td>\n",
       "      <td>701.0</td>\n",
       "      <td>2300 - 2399 BLOCK OF AINGER PLACE SE</td>\n",
       "      <td>SE</td>\n",
       "      <td>20020</td>\n",
       "    </tr>\n",
       "    <tr>\n",
       "      <th>2</th>\n",
       "      <td>-76.971451</td>\n",
       "      <td>38.932130</td>\n",
       "      <td>4236691</td>\n",
       "      <td>402476</td>\n",
       "      <td>140472</td>\n",
       "      <td>2021/01/14 06:15:24+00</td>\n",
       "      <td>002-919</td>\n",
       "      <td>2016/08/09 18:06:15+00</td>\n",
       "      <td>HARRIS</td>\n",
       "      <td>REGINALD</td>\n",
       "      <td>REGINALD ELBERT HARRIS-WILLS</td>\n",
       "      <td>B</td>\n",
       "      <td>1995/02/12 00:00:00+00</td>\n",
       "      <td>67</td>\n",
       "      <td>157</td>\n",
       "      <td>BROWN</td>\n",
       "      <td>BLACK</td>\n",
       "      <td>TATTOO ON LOWER RIGHT ARM \"LAMONT\"; TATTOO ON ...</td>\n",
       "      <td>2016/10/20 00:00:00+00</td>\n",
       "      <td>HOME</td>\n",
       "      <td>5.0</td>\n",
       "      <td>503.0</td>\n",
       "      <td>2400 - 2499 BLOCK OF LAWRENCE STREET NE</td>\n",
       "      <td>NE</td>\n",
       "      <td>20018</td>\n",
       "    </tr>\n",
       "    <tr>\n",
       "      <th>3</th>\n",
       "      <td>-77.010605</td>\n",
       "      <td>38.914089</td>\n",
       "      <td>4236692</td>\n",
       "      <td>399080</td>\n",
       "      <td>138468</td>\n",
       "      <td>2021/01/14 06:15:24+00</td>\n",
       "      <td>002-927</td>\n",
       "      <td>2016/08/30 11:29:37+00</td>\n",
       "      <td>STRICKLAND</td>\n",
       "      <td>GARY</td>\n",
       "      <td>MELVIN</td>\n",
       "      <td>B</td>\n",
       "      <td>1967/01/22 00:00:00+00</td>\n",
       "      <td>74</td>\n",
       "      <td>245</td>\n",
       "      <td>BROWN</td>\n",
       "      <td>BLACK</td>\n",
       "      <td>TATTOO ON SHOULDER \"TINA\"; GUNSHOT WOUNDS ON B...</td>\n",
       "      <td>2016/09/01 00:00:00+00</td>\n",
       "      <td>HOME</td>\n",
       "      <td>3.0</td>\n",
       "      <td>308.0</td>\n",
       "      <td>1 - 99 BLOCK OF S STREET NW</td>\n",
       "      <td>NW</td>\n",
       "      <td>20001</td>\n",
       "    </tr>\n",
       "    <tr>\n",
       "      <th>4</th>\n",
       "      <td>-77.021917</td>\n",
       "      <td>38.913356</td>\n",
       "      <td>4236693</td>\n",
       "      <td>398099</td>\n",
       "      <td>138387</td>\n",
       "      <td>2021/01/14 06:15:24+00</td>\n",
       "      <td>002-928</td>\n",
       "      <td>2016/08/31 10:07:09+00</td>\n",
       "      <td>GANT</td>\n",
       "      <td>TIMOTHY</td>\n",
       "      <td>TIMOTHY  GANT</td>\n",
       "      <td>B</td>\n",
       "      <td>1989/09/19 00:00:00+00</td>\n",
       "      <td>71</td>\n",
       "      <td>285</td>\n",
       "      <td>BROWN</td>\n",
       "      <td>BLACK</td>\n",
       "      <td>TATTOO ON LEFT SHOULDER 'PICTURE OF A CROSS WI...</td>\n",
       "      <td>2017/02/09 00:00:00+00</td>\n",
       "      <td>WORK</td>\n",
       "      <td>3.0</td>\n",
       "      <td>308.0</td>\n",
       "      <td>1700 - 1799 BLOCK OF 7TH STREET NW</td>\n",
       "      <td>NW</td>\n",
       "      <td>20001</td>\n",
       "    </tr>\n",
       "  </tbody>\n",
       "</table>\n",
       "</div>"
      ],
      "text/plain": [
       "           X          Y  OBJECTID  BLOCK_X  BLOCK_Y        DCS_LAST_MOD_DTM  \\\n",
       "0 -76.973974  38.863542   4236689   402259   132858  2021/01/14 06:15:24+00   \n",
       "1 -76.972648  38.857499   4236690   402374   132187  2021/01/14 06:15:24+00   \n",
       "2 -76.971451  38.932130   4236691   402476   140472  2021/01/14 06:15:24+00   \n",
       "3 -77.010605  38.914089   4236692   399080   138468  2021/01/14 06:15:24+00   \n",
       "4 -77.021917  38.913356   4236693   398099   138387  2021/01/14 06:15:24+00   \n",
       "\n",
       "  SEXOFFENDERCODE                 ADDDATE    LASTNAME FIRSTNAME  \\\n",
       "0         002-910  2016/08/02 09:34:44+00     SANDERS   ANTHONY   \n",
       "1         002-913  2016/08/04 14:42:53+00      GAYLES  JERMAINE   \n",
       "2         002-919  2016/08/09 18:06:15+00      HARRIS  REGINALD   \n",
       "3         002-927  2016/08/30 11:29:37+00  STRICKLAND      GARY   \n",
       "4         002-928  2016/08/31 10:07:09+00        GANT   TIMOTHY   \n",
       "\n",
       "                                             ALIASES MAXCLASSIFICATION  \\\n",
       "0  DERRICK  JUICE / X  JUICE / ANTHONY  SANDERS /...                 A   \n",
       "1  ROBERT  GAYLES / JERMAINE  IRVIN / JERMAINE  I...                 B   \n",
       "2                       REGINALD ELBERT HARRIS-WILLS                 B   \n",
       "3                                             MELVIN                 B   \n",
       "4                                      TIMOTHY  GANT                 B   \n",
       "\n",
       "                BIRTHDATE  HEIGHTNUM  WEIGHTNUM EYECOLOR HAIRCOLOR  \\\n",
       "0  1969/06/19 00:00:00+00         66        138    BROWN     BLACK   \n",
       "1  1986/06/25 00:00:00+00         73        200    BROWN     BLACK   \n",
       "2  1995/02/12 00:00:00+00         67        157    BROWN     BLACK   \n",
       "3  1967/01/22 00:00:00+00         74        245    BROWN     BLACK   \n",
       "4  1989/09/19 00:00:00+00         71        285    BROWN     BLACK   \n",
       "\n",
       "                                            MARKINGS        REGISTRATIONDATE  \\\n",
       "0  TATTOO-LEFT WRIST: CHINESE SYMBOL; RIGHT WRIST...  2016/08/29 00:00:00+00   \n",
       "1                                                NaN  2018/02/22 00:00:00+00   \n",
       "2  TATTOO ON LOWER RIGHT ARM \"LAMONT\"; TATTOO ON ...  2016/10/20 00:00:00+00   \n",
       "3  TATTOO ON SHOULDER \"TINA\"; GUNSHOT WOUNDS ON B...  2016/09/01 00:00:00+00   \n",
       "4  TATTOO ON LEFT SHOULDER 'PICTURE OF A CROSS WI...  2017/02/09 00:00:00+00   \n",
       "\n",
       "   TYPE  DISTRICT    PSA                                BLOCKNAME QUADRANT  \\\n",
       "0  HOME       6.0  607.0   2300 - 2399 BLOCK OF GOOD HOPE ROAD SE       SE   \n",
       "1  HOME       7.0  701.0     2300 - 2399 BLOCK OF AINGER PLACE SE       SE   \n",
       "2  HOME       5.0  503.0  2400 - 2499 BLOCK OF LAWRENCE STREET NE       NE   \n",
       "3  HOME       3.0  308.0              1 - 99 BLOCK OF S STREET NW       NW   \n",
       "4  WORK       3.0  308.0       1700 - 1799 BLOCK OF 7TH STREET NW       NW   \n",
       "\n",
       "     ZIP  \n",
       "0  20020  \n",
       "1  20020  \n",
       "2  20018  \n",
       "3  20001  \n",
       "4  20001  "
      ]
     },
     "execution_count": 3,
     "metadata": {},
     "output_type": "execute_result"
    }
   ],
   "source": [
    "data_df=pd.read_csv('Data/Sex_Offender_Registry.csv')\n",
    "data_df.head(5)"
   ]
  },
  {
   "cell_type": "markdown",
   "id": "c5d843dd",
   "metadata": {},
   "source": [
    "## Data exploring "
   ]
  },
  {
   "cell_type": "markdown",
   "id": "f3bf4f0a",
   "metadata": {},
   "source": [
    "### Shape of dataset"
   ]
  },
  {
   "cell_type": "code",
   "execution_count": 4,
   "id": "b5e5ccb7",
   "metadata": {},
   "outputs": [
    {
     "data": {
      "text/plain": [
       "(1323, 25)"
      ]
     },
     "execution_count": 4,
     "metadata": {},
     "output_type": "execute_result"
    }
   ],
   "source": [
    "data_df.shape"
   ]
  },
  {
   "cell_type": "markdown",
   "id": "79e264e8",
   "metadata": {},
   "source": [
    "This dataset includes 1323 data rows and 25 columns (24 attributes)"
   ]
  },
  {
   "cell_type": "markdown",
   "id": "68306f5c",
   "metadata": {},
   "source": [
    "### Read data description"
   ]
  },
  {
   "cell_type": "code",
   "execution_count": 5,
   "id": "04dfe13e",
   "metadata": {},
   "outputs": [
    {
     "name": "stdout",
     "output_type": "stream",
     "text": [
      "Context\n",
      "Sex Offender work and home locations, created as part of the DC Geographic Information System (DC GIS) for the D.C. Office of the Chief Technology Officer (OCTO) and participating D.C. government agencies. If users want to obtain more information about sex offenders, they should go to the Sex Offender Mapping Application (here) and download the “More Details” PDF. A database provided by the Court Services and Offender Supervision Agency identified sex offender registry providing location at the block level. https://www.csosa.gov/.\n",
      "\n",
      "File information\n",
      "the data set is CSV file\n",
      "\n",
      "Content\n",
      "Column Features\n",
      "This data contain\n",
      "\n",
      "1.ADDDATE\n",
      "2.ALIASES\n",
      "3.BIRTHDATE\n",
      "4.Date or Time\n",
      "5.BLOCKX \n",
      "6.BLOCKY\n",
      "7.BLOCKNAME\n",
      "8.DCSLASTMOD_DTM\n",
      "9.DISTRICT\n",
      "10.EYECOLOR\n",
      "11.FIRSTNAME\n",
      "12.HAIRCOLOR\n",
      "13.HEIGHTNUM\n",
      "14.LASTNAME\n",
      "15.MARKINGS\n",
      "16.MAXCLASSIFICATION\n",
      "17.OBJECTID\n",
      "18.Unique ID\n",
      "19.PSA\n",
      "20.QUADRANT\n",
      "21.REGISTRATIONDATE\n",
      "22.SEXOFFENDERCODE\n",
      "23.Shape\n",
      "24.TYPE\n",
      "25.WEIGHTNUM\n",
      "26.ZIP\n",
      "\n",
      "additional info\n",
      "The Sex Offender Registry database provides information on Class A and Class B sex offenders only. If you would like to see a complete list of all Class A, B, and C Offenders, you must go, in person, to one of the MPDC Registry Book locations. For a complete listing of locations, click here. Descriptions of the different Offender Classes are listed below.\n",
      "\n",
      "Class A\n",
      "Class A Sex Offenders have been convicted of, or found not guilty by reason of insanity of the following sex offenses:\n",
      "\n",
      "First degree sexual abuse\n",
      "Second degree sexual abuse\n",
      "Forcible rape\n",
      "First degree child sexual abuse of a child under 12 years of age\n",
      "Carnal knowledge of a child under 12 years of age\n",
      "Murder or manslaughter committed before, during or after engaging or attempting to engage in a sexual act, sexual contact or rape\n",
      "Forcible sodomy\n",
      "Sodomy committed against a child under 12\n",
      "Assault with the intent to commit any of the aforementioned act\n",
      "Attempting to commit any of the aforementioned Acts\n",
      "Conspiring to commit any of the aforementioned Acts\n",
      "Two separate convictions for registration offenses\n",
      "A conviction for committing registration offenses against two or more victims\n",
      "Class B\n",
      "Class B Sex Offenders have been convicted of, or found not guilty by reason of insanity of the following sex offenses against a minor, that is, a person under the age of 18:\n",
      "\n",
      "Third degree sex abuse\n",
      "Fourth degree sex abuse\n",
      "Misdemeanor sex abuse\n",
      "First degree child sexual abuse\n",
      "Second degree child sex abuse\n",
      "Carnal knowledge\n",
      "Sodomy against a minor\n",
      "Indecent acts on a child\n",
      "Enticing a child\n",
      "Lewd, indecent or obscene acts\n",
      "Sexual performance using a minor\n",
      "Incest\n",
      "Obscenity\n",
      "Prostitution\n",
      "Pandering\n",
      "Assault (unwanted sexual touching)\n",
      "Threatening to commit a sexual offense\n",
      "Kidnapping\n",
      "First or second degree burglary with intent to commit a sexual offense\n",
      "Assault with intent to commit any of the above offenses\n",
      "Attempting to commit any of the above offenses\n",
      "Conspiracy to commit any of the above offenses\n",
      "Any offense against a minor for which the offender agreed in a plea agreement to be subject to Sex Offender Registration\n",
      "Conviction in another jurisdiction of a similar criminal offense\n",
      "First or second degree sexual abuse against a ward or resident of a hospital, treatment facility or other institution\n",
      "First or second degree sexual abuse of a patient or client\n",
      "Class C\n",
      "C Classification will be given to persons convicted of the following offenses against a person 18 years of age or older:\n",
      "\n",
      "Third or fourth degree sexual abuse\n",
      "First or second degree burglary with the intent to commit a sexual offense\n",
      "Kidnapping with the intent to commit a sexual offense\n",
      "Threatening to commit a sex offense or assault with the intent to commit any of the above criminal offenses\n",
      "Attempting to commit any of the above criminal offense\n",
      "Conspiracy to commit any of the above criminal offenses\n",
      "Any offense for which the offender agreed in a plea agreement to be subject to Sex Offender Registration\n",
      "Conviction in another jurisdiction of a similar offense\n",
      "\n",
      "In accordance with enactment of the Sex Offender Registration Act of 1999, this information is being provided to the community. Unlawful use of this information to threaten, intimidate, harass, or injure a registered sex offender is prohibited and will be prosecuted to the full extent of the law.\n",
      "\n",
      "Acknowledgements\n",
      "This data is in the public domain at opendata .dc.gov.\n",
      "\n"
     ]
    }
   ],
   "source": [
    "descrition=open('DataDescription.txt','r')\n",
    "print(descrition.read())"
   ]
  },
  {
   "cell_type": "code",
   "execution_count": 6,
   "id": "0c17b548",
   "metadata": {},
   "outputs": [
    {
     "data": {
      "text/plain": [
       "X                     887\n",
       "Y                     887\n",
       "OBJECTID             1323\n",
       "BLOCK_X               800\n",
       "BLOCK_Y               804\n",
       "DCS_LAST_MOD_DTM        1\n",
       "SEXOFFENDERCODE      1059\n",
       "ADDDATE               769\n",
       "LASTNAME              703\n",
       "FIRSTNAME             455\n",
       "ALIASES               630\n",
       "MAXCLASSIFICATION       2\n",
       "BIRTHDATE            1022\n",
       "HEIGHTNUM              24\n",
       "WEIGHTNUM             145\n",
       "EYECOLOR                8\n",
       "HAIRCOLOR              11\n",
       "MARKINGS              325\n",
       "REGISTRATIONDATE      897\n",
       "TYPE                    3\n",
       "DISTRICT                7\n",
       "PSA                    57\n",
       "BLOCKNAME             887\n",
       "QUADRANT                4\n",
       "ZIP                    27\n",
       "dtype: int64"
      ]
     },
     "execution_count": 6,
     "metadata": {},
     "output_type": "execute_result"
    }
   ],
   "source": [
    "def missing_ratio(x):\n",
    "    return x.isna().mean()*100\n",
    "def diff_vals(x):\n",
    "    return x.unique()\n",
    "def num_diff_vals(x):\n",
    "    if missing_ratio(x) > 0:\n",
    "        num = len(diff_vals(x)) -1\n",
    "    else:\n",
    "        num = len(diff_vals(x))\n",
    "    return num\n",
    "data_df.agg(num_diff_vals)"
   ]
  },
  {
   "cell_type": "markdown",
   "id": "ad8f7449",
   "metadata": {},
   "source": [
    "- PSA = Public Safety Assessment : đánh giá an toàn cộng đồng\n",
    "\n",
    "- The attributes relating to ID such as:'SEXOFFENDERCODE', do not have much meanings so they could be eliminated\n",
    "- The values of the attribute 'DCS_LAST_MOD_DTM' are the same for whole so they could be also eliminated\n",
    "- Name attributes don't affect much, so be eliminated  "
   ]
  },
  {
   "cell_type": "code",
   "execution_count": 7,
   "id": "b2030379",
   "metadata": {},
   "outputs": [],
   "source": [
    "eliminated=['SEXOFFENDERCODE','DCS_LAST_MOD_DTM','LASTNAME','FIRSTNAME']\n",
    "data_df=data_df.drop(eliminated,axis=1)"
   ]
  },
  {
   "cell_type": "markdown",
   "id": "a11bb634",
   "metadata": {},
   "source": [
    "### Duplicate check"
   ]
  },
  {
   "cell_type": "code",
   "execution_count": 8,
   "id": "3645bd9b",
   "metadata": {
    "scrolled": true
   },
   "outputs": [
    {
     "data": {
      "text/plain": [
       "0"
      ]
     },
     "execution_count": 8,
     "metadata": {},
     "output_type": "execute_result"
    }
   ],
   "source": [
    "data_df.duplicated().sum()"
   ]
  },
  {
   "cell_type": "markdown",
   "id": "8f799490",
   "metadata": {},
   "source": [
    "There is no duplicated data row in this dataset"
   ]
  },
  {
   "cell_type": "markdown",
   "id": "36107cdb",
   "metadata": {},
   "source": [
    "### Dataset more detail\n",
    "#### Types of data "
   ]
  },
  {
   "cell_type": "code",
   "execution_count": 9,
   "id": "08b6ef0a",
   "metadata": {
    "scrolled": true
   },
   "outputs": [
    {
     "name": "stdout",
     "output_type": "stream",
     "text": [
      "<class 'pandas.core.frame.DataFrame'>\n",
      "RangeIndex: 1323 entries, 0 to 1322\n",
      "Data columns (total 21 columns):\n",
      " #   Column             Non-Null Count  Dtype  \n",
      "---  ------             --------------  -----  \n",
      " 0   X                  1323 non-null   float64\n",
      " 1   Y                  1323 non-null   float64\n",
      " 2   OBJECTID           1323 non-null   int64  \n",
      " 3   BLOCK_X            1323 non-null   int64  \n",
      " 4   BLOCK_Y            1323 non-null   int64  \n",
      " 5   ADDDATE            1323 non-null   object \n",
      " 6   ALIASES            787 non-null    object \n",
      " 7   MAXCLASSIFICATION  1323 non-null   object \n",
      " 8   BIRTHDATE          1323 non-null   object \n",
      " 9   HEIGHTNUM          1323 non-null   int64  \n",
      " 10  WEIGHTNUM          1323 non-null   int64  \n",
      " 11  EYECOLOR           1323 non-null   object \n",
      " 12  HAIRCOLOR          1323 non-null   object \n",
      " 13  MARKINGS           408 non-null    object \n",
      " 14  REGISTRATIONDATE   1323 non-null   object \n",
      " 15  TYPE               1323 non-null   object \n",
      " 16  DISTRICT           1319 non-null   float64\n",
      " 17  PSA                1318 non-null   float64\n",
      " 18  BLOCKNAME          1323 non-null   object \n",
      " 19  QUADRANT           1323 non-null   object \n",
      " 20  ZIP                1323 non-null   int64  \n",
      "dtypes: float64(4), int64(6), object(11)\n",
      "memory usage: 217.2+ KB\n"
     ]
    }
   ],
   "source": [
    "data_df.info()"
   ]
  },
  {
   "cell_type": "markdown",
   "id": "b4a19bc4",
   "metadata": {},
   "source": [
    "There are 3 main dtypes in this dataset including: float, int and object. However, there are some unsual in the data type of such as: DCS_LAST_MOD_DTM, ADDDATE, BIRTHDATE, REGISTRATIONDATE  relating to datetime. They should be meant as datetime dtype instead of object"
   ]
  },
  {
   "cell_type": "markdown",
   "id": "c970cced",
   "metadata": {},
   "source": [
    "##### Convert mentioned attributes to Datetime \n",
    "- with DCS_LAST_MOD_DTM, BIRTHDATE, REGISTRATIONDATE the infomation about hour seem not any values so it is able to remove it\n",
    "- with ADDDATE keep the information of hour"
   ]
  },
  {
   "cell_type": "code",
   "execution_count": 10,
   "id": "4cabb0d3",
   "metadata": {
    "scrolled": true
   },
   "outputs": [],
   "source": [
    "datetime_cols_no_hour=['BIRTHDATE','REGISTRATIONDATE']\n",
    "data_df[datetime_cols_no_hour]=data_df[datetime_cols_no_hour].apply(pd.to_datetime, format = '%Y/%m/%d')\n",
    "data_df['ADDDATE']=data_df['ADDDATE'].apply(pd.to_datetime,format='%Y/%m/%d %H:%M:%S')"
   ]
  },
  {
   "cell_type": "markdown",
   "id": "13f904f3",
   "metadata": {},
   "source": [
    "##### Missing rate of dataset"
   ]
  },
  {
   "cell_type": "code",
   "execution_count": 11,
   "id": "5304b843",
   "metadata": {},
   "outputs": [
    {
     "data": {
      "text/plain": [
       "X                     0.000000\n",
       "Y                     0.000000\n",
       "OBJECTID              0.000000\n",
       "BLOCK_X               0.000000\n",
       "BLOCK_Y               0.000000\n",
       "ADDDATE               0.000000\n",
       "ALIASES              40.513983\n",
       "MAXCLASSIFICATION     0.000000\n",
       "BIRTHDATE             0.000000\n",
       "HEIGHTNUM             0.000000\n",
       "WEIGHTNUM             0.000000\n",
       "EYECOLOR              0.000000\n",
       "HAIRCOLOR             0.000000\n",
       "MARKINGS             69.160998\n",
       "REGISTRATIONDATE      0.000000\n",
       "TYPE                  0.000000\n",
       "DISTRICT              0.302343\n",
       "PSA                   0.377929\n",
       "BLOCKNAME             0.000000\n",
       "QUADRANT              0.000000\n",
       "ZIP                   0.000000\n",
       "dtype: float64"
      ]
     },
     "execution_count": 11,
     "metadata": {},
     "output_type": "execute_result"
    }
   ],
   "source": [
    "data_df.agg(missing_ratio)"
   ]
  },
  {
   "cell_type": "markdown",
   "id": "4474b0da",
   "metadata": {},
   "source": [
    "- The missing data occurs in 4 data fields including: ALIASES, MARKINGS, DISTRICT, PSA. However, ALIASES and MARKINGS missing data possibly decribe that they don't have. 'DISTRICT' will be filled by the most popular value and 'PSA' will be filled by mean"
   ]
  },
  {
   "cell_type": "markdown",
   "id": "e2fb5019",
   "metadata": {},
   "source": [
    "##### Fill missing data of the attributes 'ALIASES, MARKINGS'  by NaN & 'DISTRICT' --> the most popular, 'PSA' --> mean "
   ]
  },
  {
   "cell_type": "code",
   "execution_count": 12,
   "id": "92dfd37e",
   "metadata": {},
   "outputs": [],
   "source": [
    "data_df['ALIASES']=data_df['ALIASES'].fillna('NaN')\n",
    "data_df['MARKINGS']=data_df['MARKINGS'].fillna('NaN')\n",
    "#df=data_df['DISTRICT'].fillna(data_df['DISTRICT'].mode()[0],inplace=True)\n",
    "data_df['DISTRICT']=data_df['DISTRICT'].fillna(data_df['DISTRICT'].mode()[0])\n",
    "data_df['PSA']=data_df['PSA'].fillna(int(data_df['PSA'].mean()))"
   ]
  },
  {
   "cell_type": "markdown",
   "id": "e98cb391",
   "metadata": {},
   "source": [
    "##### Consider to Numeric attributes"
   ]
  },
  {
   "cell_type": "code",
   "execution_count": 13,
   "id": "f1272df7",
   "metadata": {},
   "outputs": [
    {
     "data": {
      "text/html": [
       "<div>\n",
       "<style scoped>\n",
       "    .dataframe tbody tr th:only-of-type {\n",
       "        vertical-align: middle;\n",
       "    }\n",
       "\n",
       "    .dataframe tbody tr th {\n",
       "        vertical-align: top;\n",
       "    }\n",
       "\n",
       "    .dataframe thead th {\n",
       "        text-align: right;\n",
       "    }\n",
       "</style>\n",
       "<table border=\"1\" class=\"dataframe\">\n",
       "  <thead>\n",
       "    <tr style=\"text-align: right;\">\n",
       "      <th></th>\n",
       "      <th>X</th>\n",
       "      <th>Y</th>\n",
       "      <th>OBJECTID</th>\n",
       "      <th>BLOCK_X</th>\n",
       "      <th>BLOCK_Y</th>\n",
       "      <th>HEIGHTNUM</th>\n",
       "      <th>WEIGHTNUM</th>\n",
       "      <th>DISTRICT</th>\n",
       "      <th>PSA</th>\n",
       "      <th>ZIP</th>\n",
       "    </tr>\n",
       "  </thead>\n",
       "  <tbody>\n",
       "    <tr>\n",
       "      <th>0</th>\n",
       "      <td>-76.973974</td>\n",
       "      <td>38.863542</td>\n",
       "      <td>4236689</td>\n",
       "      <td>402259</td>\n",
       "      <td>132858</td>\n",
       "      <td>66</td>\n",
       "      <td>138</td>\n",
       "      <td>6.0</td>\n",
       "      <td>607.0</td>\n",
       "      <td>20020</td>\n",
       "    </tr>\n",
       "    <tr>\n",
       "      <th>1</th>\n",
       "      <td>-76.972648</td>\n",
       "      <td>38.857499</td>\n",
       "      <td>4236690</td>\n",
       "      <td>402374</td>\n",
       "      <td>132187</td>\n",
       "      <td>73</td>\n",
       "      <td>200</td>\n",
       "      <td>7.0</td>\n",
       "      <td>701.0</td>\n",
       "      <td>20020</td>\n",
       "    </tr>\n",
       "    <tr>\n",
       "      <th>2</th>\n",
       "      <td>-76.971451</td>\n",
       "      <td>38.932130</td>\n",
       "      <td>4236691</td>\n",
       "      <td>402476</td>\n",
       "      <td>140472</td>\n",
       "      <td>67</td>\n",
       "      <td>157</td>\n",
       "      <td>5.0</td>\n",
       "      <td>503.0</td>\n",
       "      <td>20018</td>\n",
       "    </tr>\n",
       "    <tr>\n",
       "      <th>3</th>\n",
       "      <td>-77.010605</td>\n",
       "      <td>38.914089</td>\n",
       "      <td>4236692</td>\n",
       "      <td>399080</td>\n",
       "      <td>138468</td>\n",
       "      <td>74</td>\n",
       "      <td>245</td>\n",
       "      <td>3.0</td>\n",
       "      <td>308.0</td>\n",
       "      <td>20001</td>\n",
       "    </tr>\n",
       "    <tr>\n",
       "      <th>4</th>\n",
       "      <td>-77.021917</td>\n",
       "      <td>38.913356</td>\n",
       "      <td>4236693</td>\n",
       "      <td>398099</td>\n",
       "      <td>138387</td>\n",
       "      <td>71</td>\n",
       "      <td>285</td>\n",
       "      <td>3.0</td>\n",
       "      <td>308.0</td>\n",
       "      <td>20001</td>\n",
       "    </tr>\n",
       "  </tbody>\n",
       "</table>\n",
       "</div>"
      ],
      "text/plain": [
       "           X          Y  OBJECTID  BLOCK_X  BLOCK_Y  HEIGHTNUM  WEIGHTNUM  \\\n",
       "0 -76.973974  38.863542   4236689   402259   132858         66        138   \n",
       "1 -76.972648  38.857499   4236690   402374   132187         73        200   \n",
       "2 -76.971451  38.932130   4236691   402476   140472         67        157   \n",
       "3 -77.010605  38.914089   4236692   399080   138468         74        245   \n",
       "4 -77.021917  38.913356   4236693   398099   138387         71        285   \n",
       "\n",
       "   DISTRICT    PSA    ZIP  \n",
       "0       6.0  607.0  20020  \n",
       "1       7.0  701.0  20020  \n",
       "2       5.0  503.0  20018  \n",
       "3       3.0  308.0  20001  \n",
       "4       3.0  308.0  20001  "
      ]
     },
     "execution_count": 13,
     "metadata": {},
     "output_type": "execute_result"
    }
   ],
   "source": [
    "# Get numeric attributes into another dataframe \n",
    "numeric_df=data_df.select_dtypes(include=np.number)\n",
    "numeric_df.head(5)"
   ]
  },
  {
   "cell_type": "code",
   "execution_count": 14,
   "id": "081f1bd0",
   "metadata": {},
   "outputs": [
    {
     "data": {
      "text/html": [
       "<div>\n",
       "<style scoped>\n",
       "    .dataframe tbody tr th:only-of-type {\n",
       "        vertical-align: middle;\n",
       "    }\n",
       "\n",
       "    .dataframe tbody tr th {\n",
       "        vertical-align: top;\n",
       "    }\n",
       "\n",
       "    .dataframe thead th {\n",
       "        text-align: right;\n",
       "    }\n",
       "</style>\n",
       "<table border=\"1\" class=\"dataframe\">\n",
       "  <thead>\n",
       "    <tr style=\"text-align: right;\">\n",
       "      <th></th>\n",
       "      <th>count</th>\n",
       "      <th>mean</th>\n",
       "      <th>std</th>\n",
       "      <th>min</th>\n",
       "      <th>25%</th>\n",
       "      <th>50%</th>\n",
       "      <th>75%</th>\n",
       "      <th>max</th>\n",
       "    </tr>\n",
       "  </thead>\n",
       "  <tbody>\n",
       "    <tr>\n",
       "      <th>HEIGHTNUM</th>\n",
       "      <td>1323.0</td>\n",
       "      <td>69.484505</td>\n",
       "      <td>3.289192</td>\n",
       "      <td>54.0</td>\n",
       "      <td>67.0</td>\n",
       "      <td>69.0</td>\n",
       "      <td>72.0</td>\n",
       "      <td>80.0</td>\n",
       "    </tr>\n",
       "    <tr>\n",
       "      <th>WEIGHTNUM</th>\n",
       "      <td>1323.0</td>\n",
       "      <td>190.503401</td>\n",
       "      <td>38.670773</td>\n",
       "      <td>110.0</td>\n",
       "      <td>164.5</td>\n",
       "      <td>185.0</td>\n",
       "      <td>211.5</td>\n",
       "      <td>430.0</td>\n",
       "    </tr>\n",
       "    <tr>\n",
       "      <th>PSA</th>\n",
       "      <td>1323.0</td>\n",
       "      <td>472.557823</td>\n",
       "      <td>205.723218</td>\n",
       "      <td>101.0</td>\n",
       "      <td>305.0</td>\n",
       "      <td>506.0</td>\n",
       "      <td>608.0</td>\n",
       "      <td>708.0</td>\n",
       "    </tr>\n",
       "  </tbody>\n",
       "</table>\n",
       "</div>"
      ],
      "text/plain": [
       "            count        mean         std    min    25%    50%    75%    max\n",
       "HEIGHTNUM  1323.0   69.484505    3.289192   54.0   67.0   69.0   72.0   80.0\n",
       "WEIGHTNUM  1323.0  190.503401   38.670773  110.0  164.5  185.0  211.5  430.0\n",
       "PSA        1323.0  472.557823  205.723218  101.0  305.0  506.0  608.0  708.0"
      ]
     },
     "execution_count": 14,
     "metadata": {},
     "output_type": "execute_result"
    }
   ],
   "source": [
    "numeric_df[['HEIGHTNUM','WEIGHTNUM','PSA']].describe().T"
   ]
  },
  {
   "cell_type": "markdown",
   "id": "147c9057",
   "metadata": {},
   "source": [
    "##### Consider the relationship between X, Y and BLOCK_X, BLOCK_Y"
   ]
  },
  {
   "cell_type": "code",
   "execution_count": 15,
   "id": "173c1ecc",
   "metadata": {},
   "outputs": [
    {
     "data": {
      "image/png": "[encoded data removed]",
      "text/plain": [
       "<Figure size 2880x5760 with 4 Axes>"
      ]
     },
     "metadata": {
      "needs_background": "light"
     },
     "output_type": "display_data"
    }
   ],
   "source": [
    "draw_columns=['X', 'Y', 'BLOCK_X', 'BLOCK_Y']\n",
    "i=1\n",
    "plt.figure(figsize=(40,80))\n",
    "for col in draw_columns:\n",
    "    ax=plt.subplot(24,8,i)\n",
    "    numeric_df[col].plot.hist(alpha=0.8,ax=ax)\n",
    "    ax.set_title(col)\n",
    "    ax.set_xlabel('')\n",
    "    i=i+1"
   ]
  },
  {
   "cell_type": "code",
   "execution_count": 16,
   "id": "d8fbe2b8",
   "metadata": {},
   "outputs": [
    {
     "data": {
      "image/png": "[encoded data removed]",
      "text/plain": [
       "<Figure size 1440x720 with 2 Axes>"
      ]
     },
     "metadata": {
      "needs_background": "light"
     },
     "output_type": "display_data"
    }
   ],
   "source": [
    "f, ax = plt.subplots(1,2, figsize = (20,10))\n",
    "ax[0].scatter(numeric_df.X, numeric_df.Y, )\n",
    "ax[0].set_title('Scatter plot X,Y')\n",
    "ax[0].set_xlabel('X')\n",
    "ax[0].set_ylabel('Y')\n",
    "\n",
    "ax[1].scatter(numeric_df.BLOCK_X, numeric_df.BLOCK_Y)\n",
    "ax[1].set_title('Scatter plot BLOCK_X, BLOCK_Y')\n",
    "ax[1].set_xlabel('BLOCK_X')\n",
    "ax[1].set_ylabel('BLOCK_Y')\n",
    "plt.show()"
   ]
  },
  {
   "cell_type": "markdown",
   "id": "27c7bc80",
   "metadata": {},
   "source": [
    "- Assumption: There is a correlation between (X and BLOCK_X) & (Y and BLOCK_Y). We can remove BLOCK_X & BLOCK_Y and keep the others because X & Y can decribe location more clearly."
   ]
  },
  {
   "cell_type": "code",
   "execution_count": 17,
   "id": "95c69696",
   "metadata": {},
   "outputs": [],
   "source": [
    "data_df=data_df.drop(['BLOCK_X','BLOCK_Y'],axis=1)"
   ]
  },
  {
   "cell_type": "markdown",
   "id": "dddadee8",
   "metadata": {},
   "source": [
    "##### Consider categorical attributes"
   ]
  },
  {
   "cell_type": "code",
   "execution_count": 18,
   "id": "a651f220",
   "metadata": {},
   "outputs": [
    {
     "data": {
      "text/html": [
       "<div>\n",
       "<style scoped>\n",
       "    .dataframe tbody tr th:only-of-type {\n",
       "        vertical-align: middle;\n",
       "    }\n",
       "\n",
       "    .dataframe tbody tr th {\n",
       "        vertical-align: top;\n",
       "    }\n",
       "\n",
       "    .dataframe thead th {\n",
       "        text-align: right;\n",
       "    }\n",
       "</style>\n",
       "<table border=\"1\" class=\"dataframe\">\n",
       "  <thead>\n",
       "    <tr style=\"text-align: right;\">\n",
       "      <th></th>\n",
       "      <th>ALIASES</th>\n",
       "      <th>MAXCLASSIFICATION</th>\n",
       "      <th>EYECOLOR</th>\n",
       "      <th>HAIRCOLOR</th>\n",
       "      <th>MARKINGS</th>\n",
       "      <th>TYPE</th>\n",
       "      <th>BLOCKNAME</th>\n",
       "      <th>QUADRANT</th>\n",
       "    </tr>\n",
       "  </thead>\n",
       "  <tbody>\n",
       "    <tr>\n",
       "      <th>0</th>\n",
       "      <td>DERRICK  JUICE / X  JUICE / ANTHONY  SANDERS /...</td>\n",
       "      <td>A</td>\n",
       "      <td>BROWN</td>\n",
       "      <td>BLACK</td>\n",
       "      <td>TATTOO-LEFT WRIST: CHINESE SYMBOL; RIGHT WRIST...</td>\n",
       "      <td>HOME</td>\n",
       "      <td>2300 - 2399 BLOCK OF GOOD HOPE ROAD SE</td>\n",
       "      <td>SE</td>\n",
       "    </tr>\n",
       "    <tr>\n",
       "      <th>1</th>\n",
       "      <td>ROBERT  GAYLES / JERMAINE  IRVIN / JERMAINE  I...</td>\n",
       "      <td>B</td>\n",
       "      <td>BROWN</td>\n",
       "      <td>BLACK</td>\n",
       "      <td>NaN</td>\n",
       "      <td>HOME</td>\n",
       "      <td>2300 - 2399 BLOCK OF AINGER PLACE SE</td>\n",
       "      <td>SE</td>\n",
       "    </tr>\n",
       "    <tr>\n",
       "      <th>2</th>\n",
       "      <td>REGINALD ELBERT HARRIS-WILLS</td>\n",
       "      <td>B</td>\n",
       "      <td>BROWN</td>\n",
       "      <td>BLACK</td>\n",
       "      <td>TATTOO ON LOWER RIGHT ARM \"LAMONT\"; TATTOO ON ...</td>\n",
       "      <td>HOME</td>\n",
       "      <td>2400 - 2499 BLOCK OF LAWRENCE STREET NE</td>\n",
       "      <td>NE</td>\n",
       "    </tr>\n",
       "    <tr>\n",
       "      <th>3</th>\n",
       "      <td>MELVIN</td>\n",
       "      <td>B</td>\n",
       "      <td>BROWN</td>\n",
       "      <td>BLACK</td>\n",
       "      <td>TATTOO ON SHOULDER \"TINA\"; GUNSHOT WOUNDS ON B...</td>\n",
       "      <td>HOME</td>\n",
       "      <td>1 - 99 BLOCK OF S STREET NW</td>\n",
       "      <td>NW</td>\n",
       "    </tr>\n",
       "    <tr>\n",
       "      <th>4</th>\n",
       "      <td>TIMOTHY  GANT</td>\n",
       "      <td>B</td>\n",
       "      <td>BROWN</td>\n",
       "      <td>BLACK</td>\n",
       "      <td>TATTOO ON LEFT SHOULDER 'PICTURE OF A CROSS WI...</td>\n",
       "      <td>WORK</td>\n",
       "      <td>1700 - 1799 BLOCK OF 7TH STREET NW</td>\n",
       "      <td>NW</td>\n",
       "    </tr>\n",
       "  </tbody>\n",
       "</table>\n",
       "</div>"
      ],
      "text/plain": [
       "                                             ALIASES MAXCLASSIFICATION  \\\n",
       "0  DERRICK  JUICE / X  JUICE / ANTHONY  SANDERS /...                 A   \n",
       "1  ROBERT  GAYLES / JERMAINE  IRVIN / JERMAINE  I...                 B   \n",
       "2                       REGINALD ELBERT HARRIS-WILLS                 B   \n",
       "3                                             MELVIN                 B   \n",
       "4                                      TIMOTHY  GANT                 B   \n",
       "\n",
       "  EYECOLOR HAIRCOLOR                                           MARKINGS  TYPE  \\\n",
       "0    BROWN     BLACK  TATTOO-LEFT WRIST: CHINESE SYMBOL; RIGHT WRIST...  HOME   \n",
       "1    BROWN     BLACK                                                NaN  HOME   \n",
       "2    BROWN     BLACK  TATTOO ON LOWER RIGHT ARM \"LAMONT\"; TATTOO ON ...  HOME   \n",
       "3    BROWN     BLACK  TATTOO ON SHOULDER \"TINA\"; GUNSHOT WOUNDS ON B...  HOME   \n",
       "4    BROWN     BLACK  TATTOO ON LEFT SHOULDER 'PICTURE OF A CROSS WI...  WORK   \n",
       "\n",
       "                                 BLOCKNAME QUADRANT  \n",
       "0   2300 - 2399 BLOCK OF GOOD HOPE ROAD SE       SE  \n",
       "1     2300 - 2399 BLOCK OF AINGER PLACE SE       SE  \n",
       "2  2400 - 2499 BLOCK OF LAWRENCE STREET NE       NE  \n",
       "3              1 - 99 BLOCK OF S STREET NW       NW  \n",
       "4       1700 - 1799 BLOCK OF 7TH STREET NW       NW  "
      ]
     },
     "execution_count": 18,
     "metadata": {},
     "output_type": "execute_result"
    }
   ],
   "source": [
    "category_df=data_df.select_dtypes(include=['object'])\n",
    "category_df.head(5)"
   ]
  },
  {
   "cell_type": "markdown",
   "id": "54e6d3d5",
   "metadata": {},
   "source": [
    "##### Consider datetime attributes"
   ]
  },
  {
   "cell_type": "code",
   "execution_count": 19,
   "id": "3909415c",
   "metadata": {},
   "outputs": [
    {
     "data": {
      "text/html": [
       "<div>\n",
       "<style scoped>\n",
       "    .dataframe tbody tr th:only-of-type {\n",
       "        vertical-align: middle;\n",
       "    }\n",
       "\n",
       "    .dataframe tbody tr th {\n",
       "        vertical-align: top;\n",
       "    }\n",
       "\n",
       "    .dataframe thead th {\n",
       "        text-align: right;\n",
       "    }\n",
       "</style>\n",
       "<table border=\"1\" class=\"dataframe\">\n",
       "  <thead>\n",
       "    <tr style=\"text-align: right;\">\n",
       "      <th></th>\n",
       "      <th>ADDDATE</th>\n",
       "      <th>BIRTHDATE</th>\n",
       "      <th>REGISTRATIONDATE</th>\n",
       "    </tr>\n",
       "  </thead>\n",
       "  <tbody>\n",
       "    <tr>\n",
       "      <th>0</th>\n",
       "      <td>2016-08-02 09:34:44+00:00</td>\n",
       "      <td>1969-06-19 00:00:00+00:00</td>\n",
       "      <td>2016-08-29 00:00:00+00:00</td>\n",
       "    </tr>\n",
       "    <tr>\n",
       "      <th>1</th>\n",
       "      <td>2016-08-04 14:42:53+00:00</td>\n",
       "      <td>1986-06-25 00:00:00+00:00</td>\n",
       "      <td>2018-02-22 00:00:00+00:00</td>\n",
       "    </tr>\n",
       "    <tr>\n",
       "      <th>2</th>\n",
       "      <td>2016-08-09 18:06:15+00:00</td>\n",
       "      <td>1995-02-12 00:00:00+00:00</td>\n",
       "      <td>2016-10-20 00:00:00+00:00</td>\n",
       "    </tr>\n",
       "    <tr>\n",
       "      <th>3</th>\n",
       "      <td>2016-08-30 11:29:37+00:00</td>\n",
       "      <td>1967-01-22 00:00:00+00:00</td>\n",
       "      <td>2016-09-01 00:00:00+00:00</td>\n",
       "    </tr>\n",
       "    <tr>\n",
       "      <th>4</th>\n",
       "      <td>2016-08-31 10:07:09+00:00</td>\n",
       "      <td>1989-09-19 00:00:00+00:00</td>\n",
       "      <td>2017-02-09 00:00:00+00:00</td>\n",
       "    </tr>\n",
       "    <tr>\n",
       "      <th>...</th>\n",
       "      <td>...</td>\n",
       "      <td>...</td>\n",
       "      <td>...</td>\n",
       "    </tr>\n",
       "    <tr>\n",
       "      <th>1318</th>\n",
       "      <td>2012-08-06 11:18:48+00:00</td>\n",
       "      <td>1991-04-23 00:00:00+00:00</td>\n",
       "      <td>2012-08-23 00:00:00+00:00</td>\n",
       "    </tr>\n",
       "    <tr>\n",
       "      <th>1319</th>\n",
       "      <td>2012-08-06 11:18:48+00:00</td>\n",
       "      <td>1991-04-23 00:00:00+00:00</td>\n",
       "      <td>2012-08-23 00:00:00+00:00</td>\n",
       "    </tr>\n",
       "    <tr>\n",
       "      <th>1320</th>\n",
       "      <td>2011-04-07 15:02:37+00:00</td>\n",
       "      <td>1982-06-05 00:00:00+00:00</td>\n",
       "      <td>2011-04-18 00:00:00+00:00</td>\n",
       "    </tr>\n",
       "    <tr>\n",
       "      <th>1321</th>\n",
       "      <td>2011-04-07 15:02:37+00:00</td>\n",
       "      <td>1982-06-05 00:00:00+00:00</td>\n",
       "      <td>2011-04-18 00:00:00+00:00</td>\n",
       "    </tr>\n",
       "    <tr>\n",
       "      <th>1322</th>\n",
       "      <td>2012-12-10 00:00:00+00:00</td>\n",
       "      <td>1951-08-18 00:00:00+00:00</td>\n",
       "      <td>2007-04-04 00:00:00+00:00</td>\n",
       "    </tr>\n",
       "  </tbody>\n",
       "</table>\n",
       "<p>1323 rows × 3 columns</p>\n",
       "</div>"
      ],
      "text/plain": [
       "                       ADDDATE                 BIRTHDATE  \\\n",
       "0    2016-08-02 09:34:44+00:00 1969-06-19 00:00:00+00:00   \n",
       "1    2016-08-04 14:42:53+00:00 1986-06-25 00:00:00+00:00   \n",
       "2    2016-08-09 18:06:15+00:00 1995-02-12 00:00:00+00:00   \n",
       "3    2016-08-30 11:29:37+00:00 1967-01-22 00:00:00+00:00   \n",
       "4    2016-08-31 10:07:09+00:00 1989-09-19 00:00:00+00:00   \n",
       "...                        ...                       ...   \n",
       "1318 2012-08-06 11:18:48+00:00 1991-04-23 00:00:00+00:00   \n",
       "1319 2012-08-06 11:18:48+00:00 1991-04-23 00:00:00+00:00   \n",
       "1320 2011-04-07 15:02:37+00:00 1982-06-05 00:00:00+00:00   \n",
       "1321 2011-04-07 15:02:37+00:00 1982-06-05 00:00:00+00:00   \n",
       "1322 2012-12-10 00:00:00+00:00 1951-08-18 00:00:00+00:00   \n",
       "\n",
       "              REGISTRATIONDATE  \n",
       "0    2016-08-29 00:00:00+00:00  \n",
       "1    2018-02-22 00:00:00+00:00  \n",
       "2    2016-10-20 00:00:00+00:00  \n",
       "3    2016-09-01 00:00:00+00:00  \n",
       "4    2017-02-09 00:00:00+00:00  \n",
       "...                        ...  \n",
       "1318 2012-08-23 00:00:00+00:00  \n",
       "1319 2012-08-23 00:00:00+00:00  \n",
       "1320 2011-04-18 00:00:00+00:00  \n",
       "1321 2011-04-18 00:00:00+00:00  \n",
       "1322 2007-04-04 00:00:00+00:00  \n",
       "\n",
       "[1323 rows x 3 columns]"
      ]
     },
     "execution_count": 19,
     "metadata": {},
     "output_type": "execute_result"
    }
   ],
   "source": [
    "datetime_df=data_df.select_dtypes(include='datetime64[ns, UTC]')\n",
    "datetime_df"
   ]
  },
  {
   "cell_type": "markdown",
   "id": "98d05ce6",
   "metadata": {},
   "source": [
    "- Depending on the birthdate, we calculate the age of criminals\n",
    "- There is no consideration on the other attributes"
   ]
  },
  {
   "cell_type": "code",
   "execution_count": 21,
   "id": "f31aec17",
   "metadata": {},
   "outputs": [],
   "source": [
    "now =pd.to_datetime('now')\n",
    "data_df['AGE']=((now - datetime_df['BIRTHDATE'].apply(lambda x:x.tz_localize(None))).astype('<m8[Y]'))"
   ]
  },
  {
   "cell_type": "markdown",
   "id": "e5529318",
   "metadata": {},
   "source": [
    "##### Calculate quantiles "
   ]
  },
  {
   "cell_type": "code",
   "execution_count": 23,
   "id": "91894204",
   "metadata": {},
   "outputs": [],
   "source": [
    "quantiles=[data_df['AGE'].quantile(0.25),\n",
    "           data_df['AGE'].quantile(0.5),\n",
    "           data_df['AGE'].quantile(0.75)]"
   ]
  },
  {
   "cell_type": "markdown",
   "id": "a4a667ce",
   "metadata": {},
   "source": [
    "##### Drawing a histogram to describe about the popularity of each criminal's age"
   ]
  },
  {
   "cell_type": "code",
   "execution_count": 44,
   "id": "7797c65c",
   "metadata": {},
   "outputs": [
    {
     "data": {
      "image/png": "[encoded data removed]",
      "text/plain": [
       "<Figure size 864x576 with 1 Axes>"
      ]
     },
     "metadata": {
      "needs_background": "light"
     },
     "output_type": "display_data"
    }
   ],
   "source": [
    "fig,ax=plt.subplots(figsize=(12,8))\n",
    "ax.grid(True)\n",
    "data_df['AGE'].plot(kind='hist',density=True,bins =10, color='coral')\n",
    "data_df['AGE'].plot(kind='kde',)\n",
    "ax.set_xlabel('Age')\n",
    "ax.set_ylabel('Frequency')\n",
    "\n",
    "ax.axes.yaxis.set_ticklabels([])\n",
    "y=0.5\n",
    "for q in quantiles:\n",
    "    ax.axvline(q,color='yellow',ymax=y,linestyle='dotted')\n",
    "    y=y+0.1\n",
    "plt.show()"
   ]
  },
  {
   "cell_type": "markdown",
   "id": "af71ee16",
   "metadata": {},
   "source": [
    "* Độ tuổi phổ biến của tội phạm hiện nay là từ 40 - 60  "
   ]
  },
  {
   "cell_type": "markdown",
   "id": "6abdd1b6",
   "metadata": {},
   "source": [
    "##### Tính sự phân bố của ngày đăng kí "
   ]
  },
  {
   "cell_type": "code",
   "execution_count": 48,
   "id": "d28e708b",
   "metadata": {},
   "outputs": [
    {
     "data": {
      "text/plain": [
       "0        8\n",
       "1        2\n",
       "2       10\n",
       "3        9\n",
       "4        2\n",
       "        ..\n",
       "1318     8\n",
       "1319     8\n",
       "1320     4\n",
       "1321     4\n",
       "1322     4\n",
       "Name: REGISTRATIONDATE, Length: 1323, dtype: int64"
      ]
     },
     "execution_count": 48,
     "metadata": {},
     "output_type": "execute_result"
    }
   ],
   "source": [
    "datetime_df['REGISTRATIONDATE'].dt.month"
   ]
  },
  {
   "cell_type": "code",
   "execution_count": 54,
   "id": "56a955a7",
   "metadata": {},
   "outputs": [
    {
     "data": {
      "image/png": "[encoded data removed]",
      "text/plain": [
       "<Figure size 864x576 with 1 Axes>"
      ]
     },
     "metadata": {
      "needs_background": "light"
     },
     "output_type": "display_data"
    }
   ],
   "source": [
    "fig , ax = plt.subplots(figsize=(12,8))\n",
    "datetime_df['REGISTRATIONDATE'].dt.year.plot(kind='hist',density=True,bins =10, color='coral')\n",
    "datetime_df['REGISTRATIONDATE'].dt.year.plot(kind='kde')\n",
    "ax.axes.yaxis.set_ticklabels([])\n",
    "plt.show()"
   ]
  },
  {
   "cell_type": "markdown",
   "id": "f656a242",
   "metadata": {},
   "source": [
    "* Có thể  thấy là số lần đăng kí sex offender có xu hướng tăng => Tỉ lệ tội phậm tình dục có xu hướng tăng theo thời gian ít nhất cho tới 2020"
   ]
  },
  {
   "cell_type": "markdown",
   "id": "70876609",
   "metadata": {},
   "source": [
    "##### Mức độ nguy hiểm theo tuổi "
   ]
  },
  {
   "cell_type": "code",
   "execution_count": 107,
   "id": "23aa2df8",
   "metadata": {},
   "outputs": [
    {
     "data": {
      "image/png": "[encoded data removed]",
      "text/plain": [
       "<Figure size 864x576 with 1 Axes>"
      ]
     },
     "metadata": {},
     "output_type": "display_data"
    }
   ],
   "source": [
    "import seaborn as sns\n",
    "fig,ax=plt.subplots(figsize=(12,8))\n",
    "sns.set(style='ticks', context='talk')\n",
    "sns.scatterplot(data=data_df,x='AGE',y='PSA',hue='MAXCLASSIFICATION',x_bins=10,y_jitter=10)\n",
    "ax.legend()\n",
    "ax.grid(True)\n",
    "sns.despine()"
   ]
  },
  {
   "cell_type": "markdown",
   "id": "d826d2cc",
   "metadata": {},
   "source": [
    "* Trẻ thì sẽ có khả năng nằm trong nhóm B \n",
    "* Lớn tuổi hơn thì nằm trong nhóm A"
   ]
  },
  {
   "cell_type": "code",
   "execution_count": null,
   "id": "5ed0c297",
   "metadata": {},
   "outputs": [],
   "source": []
  }
 ],
 "metadata": {
  "kernelspec": {
   "display_name": "Python 3",
   "language": "python",
   "name": "python3"
  },
  "language_info": {
   "codemirror_mode": {
    "name": "ipython",
    "version": 3
   },
   "file_extension": ".py",
   "mimetype": "text/x-python",
   "name": "python",
   "nbconvert_exporter": "python",
   "pygments_lexer": "ipython3",
   "version": "3.8.10"
  }
 },
 "nbformat": 4,
 "nbformat_minor": 5
}
