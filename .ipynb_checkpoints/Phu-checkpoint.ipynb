{
 "cells": [
  {
   "cell_type": "code",
   "execution_count": 1,
   "metadata": {},
   "outputs": [],
   "source": [
    "# Phu\n",
    "import sys\n",
    "import numpy as np\n",
    "import pandas as pd\n",
    "import matplotlib.pyplot as plt\n",
    "pd.set_option('display.max_columns', None)"
   ]
  },
  {
   "cell_type": "code",
   "execution_count": 2,
   "metadata": {},
   "outputs": [
    {
     "data": {
      "text/html": [
       "<div>\n",
       "<style scoped>\n",
       "    .dataframe tbody tr th:only-of-type {\n",
       "        vertical-align: middle;\n",
       "    }\n",
       "\n",
       "    .dataframe tbody tr th {\n",
       "        vertical-align: top;\n",
       "    }\n",
       "\n",
       "    .dataframe thead th {\n",
       "        text-align: right;\n",
       "    }\n",
       "</style>\n",
       "<table border=\"1\" class=\"dataframe\">\n",
       "  <thead>\n",
       "    <tr style=\"text-align: right;\">\n",
       "      <th></th>\n",
       "      <th>X</th>\n",
       "      <th>Y</th>\n",
       "      <th>OBJECTID</th>\n",
       "      <th>BLOCK_X</th>\n",
       "      <th>BLOCK_Y</th>\n",
       "      <th>DCS_LAST_MOD_DTM</th>\n",
       "      <th>SEXOFFENDERCODE</th>\n",
       "      <th>ADDDATE</th>\n",
       "      <th>LASTNAME</th>\n",
       "      <th>FIRSTNAME</th>\n",
       "      <th>ALIASES</th>\n",
       "      <th>MAXCLASSIFICATION</th>\n",
       "      <th>BIRTHDATE</th>\n",
       "      <th>HEIGHTNUM</th>\n",
       "      <th>WEIGHTNUM</th>\n",
       "      <th>EYECOLOR</th>\n",
       "      <th>HAIRCOLOR</th>\n",
       "      <th>MARKINGS</th>\n",
       "      <th>REGISTRATIONDATE</th>\n",
       "      <th>TYPE</th>\n",
       "      <th>DISTRICT</th>\n",
       "      <th>PSA</th>\n",
       "      <th>BLOCKNAME</th>\n",
       "      <th>QUADRANT</th>\n",
       "      <th>ZIP</th>\n",
       "    </tr>\n",
       "  </thead>\n",
       "  <tbody>\n",
       "    <tr>\n",
       "      <th>0</th>\n",
       "      <td>-76.973974</td>\n",
       "      <td>38.863542</td>\n",
       "      <td>4236689</td>\n",
       "      <td>402259</td>\n",
       "      <td>132858</td>\n",
       "      <td>2021/01/14 06:15:24+00</td>\n",
       "      <td>002-910</td>\n",
       "      <td>2016/08/02 09:34:44+00</td>\n",
       "      <td>SANDERS</td>\n",
       "      <td>ANTHONY</td>\n",
       "      <td>DERRICK  JUICE / X  JUICE / ANTHONY  SANDERS /...</td>\n",
       "      <td>A</td>\n",
       "      <td>1969/06/19 00:00:00+00</td>\n",
       "      <td>66</td>\n",
       "      <td>138</td>\n",
       "      <td>BROWN</td>\n",
       "      <td>BLACK</td>\n",
       "      <td>TATTOO-LEFT WRIST: CHINESE SYMBOL; RIGHT WRIST...</td>\n",
       "      <td>2016/08/29 00:00:00+00</td>\n",
       "      <td>HOME</td>\n",
       "      <td>6.0</td>\n",
       "      <td>607.0</td>\n",
       "      <td>2300 - 2399 BLOCK OF GOOD HOPE ROAD SE</td>\n",
       "      <td>SE</td>\n",
       "      <td>20020</td>\n",
       "    </tr>\n",
       "    <tr>\n",
       "      <th>1</th>\n",
       "      <td>-76.972648</td>\n",
       "      <td>38.857499</td>\n",
       "      <td>4236690</td>\n",
       "      <td>402374</td>\n",
       "      <td>132187</td>\n",
       "      <td>2021/01/14 06:15:24+00</td>\n",
       "      <td>002-913</td>\n",
       "      <td>2016/08/04 14:42:53+00</td>\n",
       "      <td>GAYLES</td>\n",
       "      <td>JERMAINE</td>\n",
       "      <td>ROBERT  GAYLES / JERMAINE  IRVIN / JERMAINE  I...</td>\n",
       "      <td>B</td>\n",
       "      <td>1986/06/25 00:00:00+00</td>\n",
       "      <td>73</td>\n",
       "      <td>200</td>\n",
       "      <td>BROWN</td>\n",
       "      <td>BLACK</td>\n",
       "      <td>NaN</td>\n",
       "      <td>2018/02/22 00:00:00+00</td>\n",
       "      <td>HOME</td>\n",
       "      <td>7.0</td>\n",
       "      <td>701.0</td>\n",
       "      <td>2300 - 2399 BLOCK OF AINGER PLACE SE</td>\n",
       "      <td>SE</td>\n",
       "      <td>20020</td>\n",
       "    </tr>\n",
       "    <tr>\n",
       "      <th>2</th>\n",
       "      <td>-76.971451</td>\n",
       "      <td>38.932130</td>\n",
       "      <td>4236691</td>\n",
       "      <td>402476</td>\n",
       "      <td>140472</td>\n",
       "      <td>2021/01/14 06:15:24+00</td>\n",
       "      <td>002-919</td>\n",
       "      <td>2016/08/09 18:06:15+00</td>\n",
       "      <td>HARRIS</td>\n",
       "      <td>REGINALD</td>\n",
       "      <td>REGINALD ELBERT HARRIS-WILLS</td>\n",
       "      <td>B</td>\n",
       "      <td>1995/02/12 00:00:00+00</td>\n",
       "      <td>67</td>\n",
       "      <td>157</td>\n",
       "      <td>BROWN</td>\n",
       "      <td>BLACK</td>\n",
       "      <td>TATTOO ON LOWER RIGHT ARM \"LAMONT\"; TATTOO ON ...</td>\n",
       "      <td>2016/10/20 00:00:00+00</td>\n",
       "      <td>HOME</td>\n",
       "      <td>5.0</td>\n",
       "      <td>503.0</td>\n",
       "      <td>2400 - 2499 BLOCK OF LAWRENCE STREET NE</td>\n",
       "      <td>NE</td>\n",
       "      <td>20018</td>\n",
       "    </tr>\n",
       "    <tr>\n",
       "      <th>3</th>\n",
       "      <td>-77.010605</td>\n",
       "      <td>38.914089</td>\n",
       "      <td>4236692</td>\n",
       "      <td>399080</td>\n",
       "      <td>138468</td>\n",
       "      <td>2021/01/14 06:15:24+00</td>\n",
       "      <td>002-927</td>\n",
       "      <td>2016/08/30 11:29:37+00</td>\n",
       "      <td>STRICKLAND</td>\n",
       "      <td>GARY</td>\n",
       "      <td>MELVIN</td>\n",
       "      <td>B</td>\n",
       "      <td>1967/01/22 00:00:00+00</td>\n",
       "      <td>74</td>\n",
       "      <td>245</td>\n",
       "      <td>BROWN</td>\n",
       "      <td>BLACK</td>\n",
       "      <td>TATTOO ON SHOULDER \"TINA\"; GUNSHOT WOUNDS ON B...</td>\n",
       "      <td>2016/09/01 00:00:00+00</td>\n",
       "      <td>HOME</td>\n",
       "      <td>3.0</td>\n",
       "      <td>308.0</td>\n",
       "      <td>1 - 99 BLOCK OF S STREET NW</td>\n",
       "      <td>NW</td>\n",
       "      <td>20001</td>\n",
       "    </tr>\n",
       "    <tr>\n",
       "      <th>4</th>\n",
       "      <td>-77.021917</td>\n",
       "      <td>38.913356</td>\n",
       "      <td>4236693</td>\n",
       "      <td>398099</td>\n",
       "      <td>138387</td>\n",
       "      <td>2021/01/14 06:15:24+00</td>\n",
       "      <td>002-928</td>\n",
       "      <td>2016/08/31 10:07:09+00</td>\n",
       "      <td>GANT</td>\n",
       "      <td>TIMOTHY</td>\n",
       "      <td>TIMOTHY  GANT</td>\n",
       "      <td>B</td>\n",
       "      <td>1989/09/19 00:00:00+00</td>\n",
       "      <td>71</td>\n",
       "      <td>285</td>\n",
       "      <td>BROWN</td>\n",
       "      <td>BLACK</td>\n",
       "      <td>TATTOO ON LEFT SHOULDER 'PICTURE OF A CROSS WI...</td>\n",
       "      <td>2017/02/09 00:00:00+00</td>\n",
       "      <td>WORK</td>\n",
       "      <td>3.0</td>\n",
       "      <td>308.0</td>\n",
       "      <td>1700 - 1799 BLOCK OF 7TH STREET NW</td>\n",
       "      <td>NW</td>\n",
       "      <td>20001</td>\n",
       "    </tr>\n",
       "  </tbody>\n",
       "</table>\n",
       "</div>"
      ],
      "text/plain": [
       "           X          Y  OBJECTID  BLOCK_X  BLOCK_Y        DCS_LAST_MOD_DTM  \\\n",
       "0 -76.973974  38.863542   4236689   402259   132858  2021/01/14 06:15:24+00   \n",
       "1 -76.972648  38.857499   4236690   402374   132187  2021/01/14 06:15:24+00   \n",
       "2 -76.971451  38.932130   4236691   402476   140472  2021/01/14 06:15:24+00   \n",
       "3 -77.010605  38.914089   4236692   399080   138468  2021/01/14 06:15:24+00   \n",
       "4 -77.021917  38.913356   4236693   398099   138387  2021/01/14 06:15:24+00   \n",
       "\n",
       "  SEXOFFENDERCODE                 ADDDATE    LASTNAME FIRSTNAME  \\\n",
       "0         002-910  2016/08/02 09:34:44+00     SANDERS   ANTHONY   \n",
       "1         002-913  2016/08/04 14:42:53+00      GAYLES  JERMAINE   \n",
       "2         002-919  2016/08/09 18:06:15+00      HARRIS  REGINALD   \n",
       "3         002-927  2016/08/30 11:29:37+00  STRICKLAND      GARY   \n",
       "4         002-928  2016/08/31 10:07:09+00        GANT   TIMOTHY   \n",
       "\n",
       "                                             ALIASES MAXCLASSIFICATION  \\\n",
       "0  DERRICK  JUICE / X  JUICE / ANTHONY  SANDERS /...                 A   \n",
       "1  ROBERT  GAYLES / JERMAINE  IRVIN / JERMAINE  I...                 B   \n",
       "2                       REGINALD ELBERT HARRIS-WILLS                 B   \n",
       "3                                             MELVIN                 B   \n",
       "4                                      TIMOTHY  GANT                 B   \n",
       "\n",
       "                BIRTHDATE  HEIGHTNUM  WEIGHTNUM EYECOLOR HAIRCOLOR  \\\n",
       "0  1969/06/19 00:00:00+00         66        138    BROWN     BLACK   \n",
       "1  1986/06/25 00:00:00+00         73        200    BROWN     BLACK   \n",
       "2  1995/02/12 00:00:00+00         67        157    BROWN     BLACK   \n",
       "3  1967/01/22 00:00:00+00         74        245    BROWN     BLACK   \n",
       "4  1989/09/19 00:00:00+00         71        285    BROWN     BLACK   \n",
       "\n",
       "                                            MARKINGS        REGISTRATIONDATE  \\\n",
       "0  TATTOO-LEFT WRIST: CHINESE SYMBOL; RIGHT WRIST...  2016/08/29 00:00:00+00   \n",
       "1                                                NaN  2018/02/22 00:00:00+00   \n",
       "2  TATTOO ON LOWER RIGHT ARM \"LAMONT\"; TATTOO ON ...  2016/10/20 00:00:00+00   \n",
       "3  TATTOO ON SHOULDER \"TINA\"; GUNSHOT WOUNDS ON B...  2016/09/01 00:00:00+00   \n",
       "4  TATTOO ON LEFT SHOULDER 'PICTURE OF A CROSS WI...  2017/02/09 00:00:00+00   \n",
       "\n",
       "   TYPE  DISTRICT    PSA                                BLOCKNAME QUADRANT  \\\n",
       "0  HOME       6.0  607.0   2300 - 2399 BLOCK OF GOOD HOPE ROAD SE       SE   \n",
       "1  HOME       7.0  701.0     2300 - 2399 BLOCK OF AINGER PLACE SE       SE   \n",
       "2  HOME       5.0  503.0  2400 - 2499 BLOCK OF LAWRENCE STREET NE       NE   \n",
       "3  HOME       3.0  308.0              1 - 99 BLOCK OF S STREET NW       NW   \n",
       "4  WORK       3.0  308.0       1700 - 1799 BLOCK OF 7TH STREET NW       NW   \n",
       "\n",
       "     ZIP  \n",
       "0  20020  \n",
       "1  20020  \n",
       "2  20018  \n",
       "3  20001  \n",
       "4  20001  "
      ]
     },
     "execution_count": 2,
     "metadata": {},
     "output_type": "execute_result"
    }
   ],
   "source": [
    "data_df=pd.read_csv('Data/Sex_Offender_Registry.csv')\n",
    "data_df.head(5)"
   ]
  },
  {
   "cell_type": "markdown",
   "metadata": {},
   "source": [
    "### Dữ liệu có bao nhiêu dòng và bao nhiêu cột"
   ]
  },
  {
   "cell_type": "code",
   "execution_count": 3,
   "metadata": {},
   "outputs": [
    {
     "data": {
      "text/plain": [
       "(1323, 25)"
      ]
     },
     "execution_count": 3,
     "metadata": {},
     "output_type": "execute_result"
    }
   ],
   "source": [
    "num_rows,num_cols=data_df.shape\n",
    "data_df.shape"
   ]
  },
  {
   "cell_type": "markdown",
   "metadata": {},
   "source": [
    "### Dữ liệu có các dòng bị lặp không"
   ]
  },
  {
   "cell_type": "code",
   "execution_count": 4,
   "metadata": {},
   "outputs": [
    {
     "data": {
      "text/plain": [
       "0"
      ]
     },
     "execution_count": 4,
     "metadata": {},
     "output_type": "execute_result"
    }
   ],
   "source": [
    "data_df.duplicated().sum()"
   ]
  },
  {
   "cell_type": "markdown",
   "metadata": {},
   "source": [
    "### Mỗi cột đang có kiểu dữ liệu gì, có cột nào chưa có kiểu dữ liệu phù hợp"
   ]
  },
  {
   "cell_type": "code",
   "execution_count": 5,
   "metadata": {},
   "outputs": [
    {
     "data": {
      "text/plain": [
       "X                    float64\n",
       "Y                    float64\n",
       "OBJECTID               int64\n",
       "BLOCK_X                int64\n",
       "BLOCK_Y                int64\n",
       "DCS_LAST_MOD_DTM      object\n",
       "SEXOFFENDERCODE       object\n",
       "ADDDATE               object\n",
       "LASTNAME              object\n",
       "FIRSTNAME             object\n",
       "ALIASES               object\n",
       "MAXCLASSIFICATION     object\n",
       "BIRTHDATE             object\n",
       "HEIGHTNUM              int64\n",
       "WEIGHTNUM              int64\n",
       "EYECOLOR              object\n",
       "HAIRCOLOR             object\n",
       "MARKINGS              object\n",
       "REGISTRATIONDATE      object\n",
       "TYPE                  object\n",
       "DISTRICT             float64\n",
       "PSA                  float64\n",
       "BLOCKNAME             object\n",
       "QUADRANT              object\n",
       "ZIP                    int64\n",
       "dtype: object"
      ]
     },
     "execution_count": 5,
     "metadata": {},
     "output_type": "execute_result"
    }
   ],
   "source": [
    "data_df.dtypes"
   ]
  },
  {
   "cell_type": "markdown",
   "metadata": {},
   "source": [
    "Các cột 'DCS_LAST_MOD_DTM', 'ADDDATE','BIRTHDATE','REGISTRATIONDATE' có kiểu dữ liệu chưa phù hợp, chuyển về kiểu dữ liệu phù hợp"
   ]
  },
  {
   "cell_type": "code",
   "execution_count": 6,
   "metadata": {},
   "outputs": [
    {
     "data": {
      "text/plain": [
       "DCS_LAST_MOD_DTM    datetime64[ns, UTC]\n",
       "ADDDATE             datetime64[ns, UTC]\n",
       "BIRTHDATE           datetime64[ns, UTC]\n",
       "REGISTRATIONDATE    datetime64[ns, UTC]\n",
       "dtype: object"
      ]
     },
     "execution_count": 6,
     "metadata": {},
     "output_type": "execute_result"
    }
   ],
   "source": [
    "datetime_cols = ['DCS_LAST_MOD_DTM', 'ADDDATE','BIRTHDATE','REGISTRATIONDATE']\n",
    "data_df[datetime_cols] = data_df[datetime_cols].apply(pd.to_datetime, format = '%Y/%m/%d %H:%M:%S')\n",
    "data_df[datetime_cols].dtypes"
   ]
  },
  {
   "cell_type": "markdown",
   "metadata": {},
   "source": [
    "### Tính tỉ lệ % giá trị thiếu, số các giá trị, các giá trị khác nhau, min, max"
   ]
  },
  {
   "cell_type": "code",
   "execution_count": 7,
   "metadata": {},
   "outputs": [],
   "source": [
    "def missing_ratio(s):\n",
    "    return s.isna().mean()*100\n",
    "def diff_vals(s):\n",
    "    return s.unique()\n",
    "def num_diff_vals(s):\n",
    "    if missing_ratio(s) > 0:\n",
    "        num = len(diff_vals(s)) -1\n",
    "    else:\n",
    "        num = len(diff_vals(s))\n",
    "    return num"
   ]
  },
  {
   "cell_type": "markdown",
   "metadata": {},
   "source": [
    "Tính tỉ lệ % giá trị thiếu cho các cột"
   ]
  },
  {
   "cell_type": "code",
   "execution_count": 8,
   "metadata": {},
   "outputs": [
    {
     "data": {
      "text/plain": [
       "Index(['ALIASES', 'MARKINGS', 'DISTRICT', 'PSA'], dtype='object')"
      ]
     },
     "execution_count": 8,
     "metadata": {},
     "output_type": "execute_result"
    }
   ],
   "source": [
    "#các cột thiếu giá trị\n",
    "missing_cols = data_df.columns[data_df.isna().sum()>0]\n",
    "missing_cols"
   ]
  },
  {
   "cell_type": "code",
   "execution_count": 9,
   "metadata": {},
   "outputs": [
    {
     "data": {
      "text/plain": [
       "ALIASES     40.513983\n",
       "MARKINGS    69.160998\n",
       "DISTRICT     0.302343\n",
       "PSA          0.377929\n",
       "dtype: float64"
      ]
     },
     "execution_count": 9,
     "metadata": {},
     "output_type": "execute_result"
    }
   ],
   "source": [
    "data_df[missing_cols].agg(missing_ratio)"
   ]
  },
  {
   "cell_type": "markdown",
   "metadata": {},
   "source": [
    "Chuyển cột 'HEIGHTNUM', 'WEIGHTNUM' sang đơn vị chuẩn"
   ]
  },
  {
   "cell_type": "code",
   "execution_count": 10,
   "metadata": {},
   "outputs": [],
   "source": [
    "data_df['HEIGHTNUM'] *= 0.0254\n",
    "data_df['WEIGHTNUM'] *= 0.45359237"
   ]
  },
  {
   "cell_type": "markdown",
   "metadata": {},
   "source": [
    "Xem sự phân bố giá trị của các cột 'X', 'Y','BLOCK_X', 'BLOCK_Y', 'HEIGHTNUM', 'WEIGHTNUM','PSA'"
   ]
  },
  {
   "cell_type": "code",
   "execution_count": 11,
   "metadata": {},
   "outputs": [
    {
     "data": {
      "text/html": [
       "<div>\n",
       "<style scoped>\n",
       "    .dataframe tbody tr th:only-of-type {\n",
       "        vertical-align: middle;\n",
       "    }\n",
       "\n",
       "    .dataframe tbody tr th {\n",
       "        vertical-align: top;\n",
       "    }\n",
       "\n",
       "    .dataframe thead th {\n",
       "        text-align: right;\n",
       "    }\n",
       "</style>\n",
       "<table border=\"1\" class=\"dataframe\">\n",
       "  <thead>\n",
       "    <tr style=\"text-align: right;\">\n",
       "      <th></th>\n",
       "      <th>X</th>\n",
       "      <th>Y</th>\n",
       "      <th>BLOCK_X</th>\n",
       "      <th>BLOCK_Y</th>\n",
       "      <th>HEIGHTNUM</th>\n",
       "      <th>WEIGHTNUM</th>\n",
       "      <th>PSA</th>\n",
       "    </tr>\n",
       "  </thead>\n",
       "  <tbody>\n",
       "    <tr>\n",
       "      <th>count</th>\n",
       "      <td>1323.000000</td>\n",
       "      <td>1323.000000</td>\n",
       "      <td>1323.000000</td>\n",
       "      <td>1323.000000</td>\n",
       "      <td>1323.000000</td>\n",
       "      <td>1323.000000</td>\n",
       "      <td>1318.000000</td>\n",
       "    </tr>\n",
       "    <tr>\n",
       "      <th>mean</th>\n",
       "      <td>-76.991895</td>\n",
       "      <td>38.893214</td>\n",
       "      <td>400703.764172</td>\n",
       "      <td>136151.686319</td>\n",
       "      <td>1.764906</td>\n",
       "      <td>86.410889</td>\n",
       "      <td>472.559939</td>\n",
       "    </tr>\n",
       "    <tr>\n",
       "      <th>std</th>\n",
       "      <td>0.033353</td>\n",
       "      <td>0.035072</td>\n",
       "      <td>2892.936748</td>\n",
       "      <td>3893.451535</td>\n",
       "      <td>0.083545</td>\n",
       "      <td>17.540768</td>\n",
       "      <td>206.113360</td>\n",
       "    </tr>\n",
       "    <tr>\n",
       "      <th>min</th>\n",
       "      <td>-77.106992</td>\n",
       "      <td>38.819395</td>\n",
       "      <td>390723.000000</td>\n",
       "      <td>127957.000000</td>\n",
       "      <td>1.371600</td>\n",
       "      <td>49.895161</td>\n",
       "      <td>101.000000</td>\n",
       "    </tr>\n",
       "    <tr>\n",
       "      <th>25%</th>\n",
       "      <td>-77.013656</td>\n",
       "      <td>38.867606</td>\n",
       "      <td>398816.000000</td>\n",
       "      <td>133309.500000</td>\n",
       "      <td>1.701800</td>\n",
       "      <td>74.615945</td>\n",
       "      <td>305.000000</td>\n",
       "    </tr>\n",
       "    <tr>\n",
       "      <th>50%</th>\n",
       "      <td>-76.992032</td>\n",
       "      <td>38.897714</td>\n",
       "      <td>400692.000000</td>\n",
       "      <td>136651.000000</td>\n",
       "      <td>1.752600</td>\n",
       "      <td>83.914588</td>\n",
       "      <td>506.000000</td>\n",
       "    </tr>\n",
       "    <tr>\n",
       "      <th>75%</th>\n",
       "      <td>-76.973688</td>\n",
       "      <td>38.916827</td>\n",
       "      <td>402282.500000</td>\n",
       "      <td>138772.500000</td>\n",
       "      <td>1.828800</td>\n",
       "      <td>95.934786</td>\n",
       "      <td>608.000000</td>\n",
       "    </tr>\n",
       "    <tr>\n",
       "      <th>max</th>\n",
       "      <td>-76.910930</td>\n",
       "      <td>38.982395</td>\n",
       "      <td>407727.000000</td>\n",
       "      <td>146051.000000</td>\n",
       "      <td>2.032000</td>\n",
       "      <td>195.044719</td>\n",
       "      <td>708.000000</td>\n",
       "    </tr>\n",
       "    <tr>\n",
       "      <th>missing_ratio</th>\n",
       "      <td>0.000000</td>\n",
       "      <td>0.000000</td>\n",
       "      <td>0.000000</td>\n",
       "      <td>0.000000</td>\n",
       "      <td>0.000000</td>\n",
       "      <td>0.000000</td>\n",
       "      <td>0.377929</td>\n",
       "    </tr>\n",
       "  </tbody>\n",
       "</table>\n",
       "</div>"
      ],
      "text/plain": [
       "                         X            Y        BLOCK_X        BLOCK_Y  \\\n",
       "count          1323.000000  1323.000000    1323.000000    1323.000000   \n",
       "mean            -76.991895    38.893214  400703.764172  136151.686319   \n",
       "std               0.033353     0.035072    2892.936748    3893.451535   \n",
       "min             -77.106992    38.819395  390723.000000  127957.000000   \n",
       "25%             -77.013656    38.867606  398816.000000  133309.500000   \n",
       "50%             -76.992032    38.897714  400692.000000  136651.000000   \n",
       "75%             -76.973688    38.916827  402282.500000  138772.500000   \n",
       "max             -76.910930    38.982395  407727.000000  146051.000000   \n",
       "missing_ratio     0.000000     0.000000       0.000000       0.000000   \n",
       "\n",
       "                 HEIGHTNUM    WEIGHTNUM          PSA  \n",
       "count          1323.000000  1323.000000  1318.000000  \n",
       "mean              1.764906    86.410889   472.559939  \n",
       "std               0.083545    17.540768   206.113360  \n",
       "min               1.371600    49.895161   101.000000  \n",
       "25%               1.701800    74.615945   305.000000  \n",
       "50%               1.752600    83.914588   506.000000  \n",
       "75%               1.828800    95.934786   608.000000  \n",
       "max               2.032000   195.044719   708.000000  \n",
       "missing_ratio     0.000000     0.000000     0.377929  "
      ]
     },
     "execution_count": 11,
     "metadata": {},
     "output_type": "execute_result"
    }
   ],
   "source": [
    "numeric_cols = ['X', 'Y','BLOCK_X', 'BLOCK_Y', 'HEIGHTNUM', 'WEIGHTNUM','PSA']\n",
    "numeric_info = pd.concat([data_df[numeric_cols].describe(),data_df[numeric_cols]\n",
    "                          .agg([missing_ratio])],axis = 0)\n",
    "numeric_info"
   ]
  },
  {
   "cell_type": "code",
   "execution_count": 12,
   "metadata": {},
   "outputs": [
    {
     "data": {
      "image/png": "[encoded data removed]",
      "text/plain": [
       "<Figure size 1440x720 with 2 Axes>"
      ]
     },
     "metadata": {
      "needs_background": "light"
     },
     "output_type": "display_data"
    }
   ],
   "source": [
    "f, ax = plt.subplots(1,2, figsize = (20,10))\n",
    "ax[0].scatter(data_df.X, data_df.Y, )\n",
    "ax[0].set_title('Scatter plot X,Y')\n",
    "ax[0].set_xlabel('X')\n",
    "ax[0].set_ylabel('Y')\n",
    "\n",
    "ax[1].scatter(data_df.BLOCK_X, data_df.BLOCK_Y)\n",
    "ax[1].set_title('Scatter plot BLOCK_X, BLOCK_Y')\n",
    "ax[1].set_xlabel('BLOCK_X')\n",
    "ax[1].set_ylabel('BLOCK_Y')\n",
    "plt.show()"
   ]
  },
  {
   "cell_type": "markdown",
   "metadata": {},
   "source": [
    "X,Y có sự tương đồng với BLOCK_X,BLOCK_Y nên ta sẽ loại bỏ 2 cột BLOCK_X,BLOCK_Y"
   ]
  },
  {
   "cell_type": "code",
   "execution_count": 13,
   "metadata": {},
   "outputs": [],
   "source": [
    "data_df=data_df.drop(['BLOCK_X','BLOCK_Y'],axis=1)"
   ]
  },
  {
   "cell_type": "markdown",
   "metadata": {},
   "source": [
    "Xem sự phân bố giá trị của các cột có kiểu dữ liệu categorical"
   ]
  },
  {
   "cell_type": "code",
   "execution_count": 14,
   "metadata": {},
   "outputs": [],
   "source": [
    "cate_cols = ['SEXOFFENDERCODE', 'LASTNAME', 'FIRSTNAME', 'ALIASES','MAXCLASSIFICATION', 'EYECOLOR', 'HAIRCOLOR',\n",
    "             'MARKINGS', 'TYPE', 'BLOCKNAME', 'QUADRANT','OBJECTID','ZIP', 'DISTRICT']"
   ]
  },
  {
   "cell_type": "code",
   "execution_count": 15,
   "metadata": {},
   "outputs": [
    {
     "data": {
      "text/html": [
       "<div>\n",
       "<style scoped>\n",
       "    .dataframe tbody tr th:only-of-type {\n",
       "        vertical-align: middle;\n",
       "    }\n",
       "\n",
       "    .dataframe tbody tr th {\n",
       "        vertical-align: top;\n",
       "    }\n",
       "\n",
       "    .dataframe thead th {\n",
       "        text-align: right;\n",
       "    }\n",
       "</style>\n",
       "<table border=\"1\" class=\"dataframe\">\n",
       "  <thead>\n",
       "    <tr style=\"text-align: right;\">\n",
       "      <th></th>\n",
       "      <th>SEXOFFENDERCODE</th>\n",
       "      <th>LASTNAME</th>\n",
       "      <th>FIRSTNAME</th>\n",
       "      <th>ALIASES</th>\n",
       "      <th>MAXCLASSIFICATION</th>\n",
       "      <th>EYECOLOR</th>\n",
       "      <th>HAIRCOLOR</th>\n",
       "      <th>MARKINGS</th>\n",
       "      <th>TYPE</th>\n",
       "      <th>BLOCKNAME</th>\n",
       "      <th>QUADRANT</th>\n",
       "      <th>OBJECTID</th>\n",
       "      <th>ZIP</th>\n",
       "      <th>DISTRICT</th>\n",
       "    </tr>\n",
       "  </thead>\n",
       "  <tbody>\n",
       "    <tr>\n",
       "      <th>diff_vals</th>\n",
       "      <td>[002-910, 002-913, 002-919, 002-927, 002-928, ...</td>\n",
       "      <td>[SANDERS, GAYLES, HARRIS, STRICKLAND, GANT, ME...</td>\n",
       "      <td>[ANTHONY, JERMAINE, REGINALD, GARY, TIMOTHY, D...</td>\n",
       "      <td>[DERRICK  JUICE / X  JUICE / ANTHONY  SANDERS ...</td>\n",
       "      <td>[A, B]</td>\n",
       "      <td>[BROWN, BLUE, HAZEL, GRAY, BLACK, GREEN, MULTI...</td>\n",
       "      <td>[BLACK, BROWN, BALD, BLACK/GRAY, RED, BLONDE, ...</td>\n",
       "      <td>[TATTOO-LEFT WRIST: CHINESE SYMBOL; RIGHT WRIS...</td>\n",
       "      <td>[HOME, WORK, SCHOOL]</td>\n",
       "      <td>[2300 - 2399 BLOCK OF GOOD HOPE ROAD SE, 2300 ...</td>\n",
       "      <td>[SE, NE, NW, SW]</td>\n",
       "      <td>[4236689, 4236690, 4236691, 4236692, 4236693, ...</td>\n",
       "      <td>[20020, 20018, 20001, 20015, 20005, 20003, 200...</td>\n",
       "      <td>[6.0, 7.0, 5.0, 3.0, 1.0, 2.0, 4.0, nan]</td>\n",
       "    </tr>\n",
       "    <tr>\n",
       "      <th>num_diff_vals</th>\n",
       "      <td>1059</td>\n",
       "      <td>703</td>\n",
       "      <td>455</td>\n",
       "      <td>630</td>\n",
       "      <td>2</td>\n",
       "      <td>8</td>\n",
       "      <td>11</td>\n",
       "      <td>325</td>\n",
       "      <td>3</td>\n",
       "      <td>887</td>\n",
       "      <td>4</td>\n",
       "      <td>1323</td>\n",
       "      <td>27</td>\n",
       "      <td>7</td>\n",
       "    </tr>\n",
       "    <tr>\n",
       "      <th>missing_ratio</th>\n",
       "      <td>0</td>\n",
       "      <td>0</td>\n",
       "      <td>0</td>\n",
       "      <td>40.514</td>\n",
       "      <td>0</td>\n",
       "      <td>0</td>\n",
       "      <td>0</td>\n",
       "      <td>69.161</td>\n",
       "      <td>0</td>\n",
       "      <td>0</td>\n",
       "      <td>0</td>\n",
       "      <td>0</td>\n",
       "      <td>0</td>\n",
       "      <td>0.302343</td>\n",
       "    </tr>\n",
       "  </tbody>\n",
       "</table>\n",
       "</div>"
      ],
      "text/plain": [
       "                                                 SEXOFFENDERCODE  \\\n",
       "diff_vals      [002-910, 002-913, 002-919, 002-927, 002-928, ...   \n",
       "num_diff_vals                                               1059   \n",
       "missing_ratio                                                  0   \n",
       "\n",
       "                                                        LASTNAME  \\\n",
       "diff_vals      [SANDERS, GAYLES, HARRIS, STRICKLAND, GANT, ME...   \n",
       "num_diff_vals                                                703   \n",
       "missing_ratio                                                  0   \n",
       "\n",
       "                                                       FIRSTNAME  \\\n",
       "diff_vals      [ANTHONY, JERMAINE, REGINALD, GARY, TIMOTHY, D...   \n",
       "num_diff_vals                                                455   \n",
       "missing_ratio                                                  0   \n",
       "\n",
       "                                                         ALIASES  \\\n",
       "diff_vals      [DERRICK  JUICE / X  JUICE / ANTHONY  SANDERS ...   \n",
       "num_diff_vals                                                630   \n",
       "missing_ratio                                             40.514   \n",
       "\n",
       "              MAXCLASSIFICATION  \\\n",
       "diff_vals                [A, B]   \n",
       "num_diff_vals                 2   \n",
       "missing_ratio                 0   \n",
       "\n",
       "                                                        EYECOLOR  \\\n",
       "diff_vals      [BROWN, BLUE, HAZEL, GRAY, BLACK, GREEN, MULTI...   \n",
       "num_diff_vals                                                  8   \n",
       "missing_ratio                                                  0   \n",
       "\n",
       "                                                       HAIRCOLOR  \\\n",
       "diff_vals      [BLACK, BROWN, BALD, BLACK/GRAY, RED, BLONDE, ...   \n",
       "num_diff_vals                                                 11   \n",
       "missing_ratio                                                  0   \n",
       "\n",
       "                                                        MARKINGS  \\\n",
       "diff_vals      [TATTOO-LEFT WRIST: CHINESE SYMBOL; RIGHT WRIS...   \n",
       "num_diff_vals                                                325   \n",
       "missing_ratio                                             69.161   \n",
       "\n",
       "                               TYPE  \\\n",
       "diff_vals      [HOME, WORK, SCHOOL]   \n",
       "num_diff_vals                     3   \n",
       "missing_ratio                     0   \n",
       "\n",
       "                                                       BLOCKNAME  \\\n",
       "diff_vals      [2300 - 2399 BLOCK OF GOOD HOPE ROAD SE, 2300 ...   \n",
       "num_diff_vals                                                887   \n",
       "missing_ratio                                                  0   \n",
       "\n",
       "                       QUADRANT  \\\n",
       "diff_vals      [SE, NE, NW, SW]   \n",
       "num_diff_vals                 4   \n",
       "missing_ratio                 0   \n",
       "\n",
       "                                                        OBJECTID  \\\n",
       "diff_vals      [4236689, 4236690, 4236691, 4236692, 4236693, ...   \n",
       "num_diff_vals                                               1323   \n",
       "missing_ratio                                                  0   \n",
       "\n",
       "                                                             ZIP  \\\n",
       "diff_vals      [20020, 20018, 20001, 20015, 20005, 20003, 200...   \n",
       "num_diff_vals                                                 27   \n",
       "missing_ratio                                                  0   \n",
       "\n",
       "                                               DISTRICT  \n",
       "diff_vals      [6.0, 7.0, 5.0, 3.0, 1.0, 2.0, 4.0, nan]  \n",
       "num_diff_vals                                         7  \n",
       "missing_ratio                                  0.302343  "
      ]
     },
     "execution_count": 15,
     "metadata": {},
     "output_type": "execute_result"
    }
   ],
   "source": [
    "data_df[cate_cols].agg([diff_vals, num_diff_vals, missing_ratio])"
   ]
  },
  {
   "cell_type": "markdown",
   "metadata": {},
   "source": [
    "Cột \"MARKINGS\" có tỉ lệ thiếu đến 69,161%, ta sẽ xem xét các giá trị của cột này"
   ]
  },
  {
   "cell_type": "code",
   "execution_count": 16,
   "metadata": {},
   "outputs": [
    {
     "data": {
      "text/plain": [
       "0       TATTOO-LEFT WRIST: CHINESE SYMBOL; RIGHT WRIST...\n",
       "2       TATTOO ON LOWER RIGHT ARM \"LAMONT\"; TATTOO ON ...\n",
       "3       TATTOO ON SHOULDER \"TINA\"; GUNSHOT WOUNDS ON B...\n",
       "4       TATTOO ON LEFT SHOULDER 'PICTURE OF A CROSS WI...\n",
       "5       TATTOO ON LEFT SHOULDER 'PICTURE OF A CROSS WI...\n",
       "                              ...                        \n",
       "1255    TATTOO LEFT ARM CROSS & HEART - RIGHT ARM REBE...\n",
       "1272    TATTOO - TEAR DROP BELOW LEFT AND RIGHT EYE; H...\n",
       "1299    TATTOO ON UPPER RIGHT ARM\" TUNE WITHIN A OPEN ...\n",
       "1300    TATTOO ON UPPER RIGHT ARM\" TUNE WITHIN A OPEN ...\n",
       "1302    TATTOO ON LEFT HAND \"PICTURE OF ROSE WITH WORD...\n",
       "Name: MARKINGS, Length: 408, dtype: object"
      ]
     },
     "execution_count": 16,
     "metadata": {},
     "output_type": "execute_result"
    }
   ],
   "source": [
    "markings = data_df[~data_df['MARKINGS'].isna()]['MARKINGS']\n",
    "markings"
   ]
  },
  {
   "cell_type": "markdown",
   "metadata": {},
   "source": [
    "Ta thấy hầu hết các giá trị đều xuất hiện \"TATTOO\", ta sẽ tính tính lệ có \"TATTOO\" so với tổng số người có đặc điểm nhận dạng"
   ]
  },
  {
   "cell_type": "code",
   "execution_count": 17,
   "metadata": {},
   "outputs": [
    {
     "data": {
      "text/plain": [
       "82.35294117647058"
      ]
     },
     "execution_count": 17,
     "metadata": {},
     "output_type": "execute_result"
    }
   ],
   "source": [
    "(np.sum(markings.apply(lambda x: 'TATTOO' in x)) / len(markings))*100"
   ]
  },
  {
   "cell_type": "markdown",
   "metadata": {},
   "source": [
    "Đối với những tội phạm có đặc điểm nhận dạng thì những người có \"TATTOO\" chiếm tỉ lệ khá là cao"
   ]
  },
  {
   "cell_type": "markdown",
   "metadata": {},
   "source": [
    "Ta sẽ tính tính lệ có \"TATTOO\" so với tổng số tội phạm"
   ]
  },
  {
   "cell_type": "code",
   "execution_count": 18,
   "metadata": {},
   "outputs": [
    {
     "data": {
      "text/plain": [
       "25.396825396825395"
      ]
     },
     "execution_count": 18,
     "metadata": {},
     "output_type": "execute_result"
    }
   ],
   "source": [
    "(np.sum(markings.apply(lambda x: 'TATTOO' in x)) / data_df.shape[0])*100"
   ]
  },
  {
   "cell_type": "markdown",
   "metadata": {},
   "source": [
    "# Đưa ra các câu hỏi và trả lời"
   ]
  },
  {
   "cell_type": "markdown",
   "metadata": {},
   "source": [
    "## Câu hỏi 1: Đặc điểm nhận dạng chung của các tội phạm"
   ]
  },
  {
   "cell_type": "markdown",
   "metadata": {},
   "source": [
    "Ta sẽ thêm cột BMI được tính theo công thức $BMI=\\frac{WEIGHTNUM}{HEIGHTNUM^{2}}$ và phân loại cấp độ\n",
    "- Gầy < 18.5\n",
    "- Bình thường 18.5 - 25\n",
    "- Thừa cân 25 - 30\n",
    "- Béo phì >=30"
   ]
  },
  {
   "cell_type": "code",
   "execution_count": 19,
   "metadata": {},
   "outputs": [
    {
     "data": {
      "text/plain": [
       "X                                float64\n",
       "Y                                float64\n",
       "OBJECTID                           int64\n",
       "DCS_LAST_MOD_DTM     datetime64[ns, UTC]\n",
       "SEXOFFENDERCODE                   object\n",
       "ADDDATE              datetime64[ns, UTC]\n",
       "LASTNAME                          object\n",
       "FIRSTNAME                         object\n",
       "ALIASES                           object\n",
       "MAXCLASSIFICATION                 object\n",
       "BIRTHDATE            datetime64[ns, UTC]\n",
       "HEIGHTNUM                        float64\n",
       "WEIGHTNUM                        float64\n",
       "EYECOLOR                          object\n",
       "HAIRCOLOR                         object\n",
       "MARKINGS                          object\n",
       "REGISTRATIONDATE     datetime64[ns, UTC]\n",
       "TYPE                              object\n",
       "DISTRICT                         float64\n",
       "PSA                              float64\n",
       "BLOCKNAME                         object\n",
       "QUADRANT                          object\n",
       "ZIP                                int64\n",
       "dtype: object"
      ]
     },
     "execution_count": 19,
     "metadata": {},
     "output_type": "execute_result"
    }
   ],
   "source": [
    "data_df.dtypes"
   ]
  },
  {
   "cell_type": "code",
   "execution_count": 20,
   "metadata": {},
   "outputs": [
    {
     "data": {
      "text/plain": [
       "\"for idx in data_df['BMI'].index:\\n    bmi=float(data_df['BMI'][idx])\\n    if bmi < 18.5:\\n        data_df.loc[idx,'BMI'] = 'Gầy'\\n    elif bmi < 25:\\n        data_df.loc[idx,'BMI'] = 'Bình thường'\\n    elif bmi < 30:\\n        data_df.loc[idx,'BMI'] ='Thừa cân'\\n    else:\\n        data_df.loc[idx,'BMI'] = 'Béo phì'\\n\""
      ]
     },
     "execution_count": 20,
     "metadata": {},
     "output_type": "execute_result"
    }
   ],
   "source": [
    "data_df['BMI']=(data_df['WEIGHTNUM']/(data_df['HEIGHTNUM']**2)).astype('float')\n",
    "'''for idx in data_df['BMI'].index:\n",
    "    bmi=float(data_df['BMI'][idx])\n",
    "    if bmi < 18.5:\n",
    "        data_df.loc[idx,'BMI'] = 'Gầy'\n",
    "    elif bmi < 25:\n",
    "        data_df.loc[idx,'BMI'] = 'Bình thường'\n",
    "    elif bmi < 30:\n",
    "        data_df.loc[idx,'BMI'] ='Thừa cân'\n",
    "    else:\n",
    "        data_df.loc[idx,'BMI'] = 'Béo phì'\n",
    "'''\n",
    "\n",
    "#data_df.loc[data_df['BMI']<18.5,'BMI']='Gầy'\n",
    "#data_df.loc[(data_df['BMI']>18.5) & (data_df['BMI']<25),'BMI']='Bình thường'"
   ]
  },
  {
   "cell_type": "markdown",
   "metadata": {},
   "source": [
    "Tính số giá trị và phần trăm xuất hiện của các giá trị trong các cột 'EYECOLOR', 'HAIRCOLOR' , 'BMI'"
   ]
  },
  {
   "cell_type": "code",
   "execution_count": 21,
   "metadata": {},
   "outputs": [
    {
     "data": {
      "text/html": [
       "<div>\n",
       "<style scoped>\n",
       "    .dataframe tbody tr th:only-of-type {\n",
       "        vertical-align: middle;\n",
       "    }\n",
       "\n",
       "    .dataframe tbody tr th {\n",
       "        vertical-align: top;\n",
       "    }\n",
       "\n",
       "    .dataframe thead th {\n",
       "        text-align: right;\n",
       "    }\n",
       "</style>\n",
       "<table border=\"1\" class=\"dataframe\">\n",
       "  <thead>\n",
       "    <tr style=\"text-align: right;\">\n",
       "      <th></th>\n",
       "      <th>EYECOLOR</th>\n",
       "      <th>HAIRCOLOR</th>\n",
       "      <th>BMI</th>\n",
       "    </tr>\n",
       "  </thead>\n",
       "  <tbody>\n",
       "    <tr>\n",
       "      <th>num_diff_vals</th>\n",
       "      <td>8</td>\n",
       "      <td>11</td>\n",
       "      <td>513</td>\n",
       "    </tr>\n",
       "    <tr>\n",
       "      <th>value_ratios</th>\n",
       "      <td>{'BROWN': 91.3, 'BLUE': 2.9, 'BLACK': 2.2, 'HAZEL': 2.0, 'GREEN': 1.2, 'GRAY': 0.3, 'MULTICOLORED': 0.1, 'UNKNOWN': 0.1}</td>\n",
       "      <td>{'BLACK': 59.7, 'BROWN': 13.8, 'BALD': 13.1, 'BLACK/GRAY': 8.9, 'GRAY': 2.3, 'BLONDE': 1.1, 'BROWN/GRAY': 0.6, 'RED': 0.3, 'WHITE': 0.2, 'SANDY': 0.1, 'UNKNOWN': 0.1}</td>\n",
       "      <td>{25.824410638720273: 1.2, 25.827045782662992: 1.1, 27.124597979905836: 1.1, 25.104353820343857: 1.1, 23.709944165573717: 1.1, 28.191696220772705: 1.0, 23.493080183977252: 1.0, 30.131553413106825: 0.9, 28.97479889357195: 0.8, 23.674791967441077: 0.8, 25.842388202374977: 0.8, 28.796170558629715: 0...</td>\n",
       "    </tr>\n",
       "  </tbody>\n",
       "</table>\n",
       "</div>"
      ],
      "text/plain": [
       "                                                                                                                               EYECOLOR  \\\n",
       "num_diff_vals                                                                                                                         8   \n",
       "value_ratios   {'BROWN': 91.3, 'BLUE': 2.9, 'BLACK': 2.2, 'HAZEL': 2.0, 'GREEN': 1.2, 'GRAY': 0.3, 'MULTICOLORED': 0.1, 'UNKNOWN': 0.1}   \n",
       "\n",
       "                                                                                                                                                                            HAIRCOLOR  \\\n",
       "num_diff_vals                                                                                                                                                                      11   \n",
       "value_ratios   {'BLACK': 59.7, 'BROWN': 13.8, 'BALD': 13.1, 'BLACK/GRAY': 8.9, 'GRAY': 2.3, 'BLONDE': 1.1, 'BROWN/GRAY': 0.6, 'RED': 0.3, 'WHITE': 0.2, 'SANDY': 0.1, 'UNKNOWN': 0.1}   \n",
       "\n",
       "                                                                                                                                                                                                                                                                                                                       BMI  \n",
       "num_diff_vals                                                                                                                                                                                                                                                                                                          513  \n",
       "value_ratios   {25.824410638720273: 1.2, 25.827045782662992: 1.1, 27.124597979905836: 1.1, 25.104353820343857: 1.1, 23.709944165573717: 1.1, 28.191696220772705: 1.0, 23.493080183977252: 1.0, 30.131553413106825: 0.9, 28.97479889357195: 0.8, 23.674791967441077: 0.8, 25.842388202374977: 0.8, 28.796170558629715: 0...  "
      ]
     },
     "execution_count": 21,
     "metadata": {},
     "output_type": "execute_result"
    }
   ],
   "source": [
    "pd.set_option('display.max_colwidth', 300) # Để dễ nhìn\n",
    "pd.set_option('display.max_columns', None) # Để dễ nhìn\n",
    "def value_ratios(col):\n",
    "    return dict(((col.value_counts()/len(col))*100).round(1))\n",
    "cate_col_df=data_df[['EYECOLOR','HAIRCOLOR','BMI']].copy()\n",
    "cate_col_df = cate_col_df.agg([num_diff_vals, value_ratios])\n",
    "cate_col_df"
   ]
  },
  {
   "cell_type": "markdown",
   "metadata": {},
   "source": [
    "## Câu hỏi 2: Độ tuổi phổ biến của tội phạm"
   ]
  },
  {
   "cell_type": "code",
   "execution_count": 22,
   "metadata": {},
   "outputs": [
    {
     "data": {
      "text/plain": [
       "Text(0.5, 0, '')"
      ]
     },
     "execution_count": 22,
     "metadata": {},
     "output_type": "execute_result"
    },
    {
     "data": {
      "image/png": "[encoded data removed]",
      "text/plain": [
       "<Figure size 1440x1080 with 1 Axes>"
      ]
     },
     "metadata": {
      "needs_background": "light"
     },
     "output_type": "display_data"
    }
   ],
   "source": [
    "age=(data_df['ADDDATE']-data_df['BIRTHDATE']).apply(lambda x: int(x.days/365))\n",
    "#age,count=np.unique(age,return_counts=True)\n",
    "plt.figure(figsize=(20,15))\n",
    "ax = plt.subplot()\n",
    "age.plot.hist(edgecolor ='black',bins=20)\n",
    "ax.set_title('Age')\n",
    "ax.set_xlabel('')"
   ]
  },
  {
   "cell_type": "markdown",
   "metadata": {},
   "source": [
    "## Câu hỏi 3: Khu vực thường hay xảu ra các vụ phạm tội"
   ]
  },
  {
   "cell_type": "code",
   "execution_count": null,
   "metadata": {},
   "outputs": [],
   "source": [
    "data_bmi=data_df['BMI']\n",
    "fig = go.Figure(data=go.Choropleth(\n",
    "    locations=df_state.index, # Spatial coordinates\n",
    "    z = df_state.values.astype(float), # Data to be color-coded\n",
    "    locationmode = 'USA-states', # set of locations match entries in `locations`\n",
    "    colorscale = 'Reds',\n",
    "    colorbar_title = \"Sum of accident\",\n",
    "))"
   ]
  }
 ],
 "metadata": {
  "kernelspec": {
   "display_name": "Python 3",
   "language": "python",
   "name": "python3"
  },
  "language_info": {
   "codemirror_mode": {
    "name": "ipython",
    "version": 3
   },
   "file_extension": ".py",
   "mimetype": "text/x-python",
   "name": "python",
   "nbconvert_exporter": "python",
   "pygments_lexer": "ipython3",
   "version": "3.8.3"
  }
 },
 "nbformat": 4,
 "nbformat_minor": 5
}
